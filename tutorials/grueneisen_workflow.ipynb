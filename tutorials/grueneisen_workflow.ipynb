{
 "cells": [
  {
   "cell_type": "markdown",
   "id": "0",
   "metadata": {},
   "source": [
    "# Grüneisen Workflow (VASP)"
   ]
  },
  {
   "cell_type": "markdown",
   "id": "1",
   "metadata": {},
   "source": [
    "This part is mocking the VASP calculation to facilitate the execution in the notebook.\n"
   ]
  },
  {
   "cell_type": "code",
   "execution_count": null,
   "id": "2",
   "metadata": {},
   "outputs": [],
   "source": [
    "import warnings\n",
    "\n",
    "from mock_vasp import TEST_DIR, mock_vasp\n",
    "\n",
    "ref_paths = {\n",
    "    \"tight relax 1\": \"Si_gruneisen_tutorial/tight_relax_1_0\",\n",
    "    \"tight relax 2\": \"Si_gruneisen_tutorial/tight_relax_2_1\",\n",
    "    \"tight relax 1 plus\": \"Si_gruneisen_tutorial/tight_relax_1_plus_3\",\n",
    "    \"tight relax 2 plus\": \"Si_gruneisen_tutorial/tight_relax_2_plus_5\",\n",
    "    \"tight relax 1 minus\": \"Si_gruneisen_tutorial/tight_relax_1_minus_4\",\n",
    "    \"tight relax 2 minus\": \"Si_gruneisen_tutorial/tight_relax_2_minus_6\",\n",
    "    \"dft phonon static 1/1 ground\": \"Si_gruneisen_tutorial/dft_phonon_static_1_1_ground_24\",\n",
    "    \"dft phonon static 1/1 plus\": \"Si_gruneisen_tutorial/dft_phonon_static_1_1_plus_26\",\n",
    "    \"dft phonon static 1/1 minus\": \"Si_gruneisen_tutorial/dft_phonon_static_1_1_minus_28\",\n",
    "}"
   ]
  },
  {
   "cell_type": "markdown",
   "id": "3",
   "metadata": {},
   "source": [
    "Let's load all required Makers to set up the calculation settings for VASP."
   ]
  },
  {
   "cell_type": "code",
   "execution_count": null,
   "id": "4",
   "metadata": {},
   "outputs": [],
   "source": [
    "from atomate2.vasp.flows.core import DoubleRelaxMaker\n",
    "from atomate2.vasp.jobs.core import TightRelaxMaker\n",
    "from atomate2.vasp.jobs.phonons import PhononDisplacementMaker\n",
    "from atomate2.vasp.sets.core import StaticSetGenerator, TightRelaxSetGenerator"
   ]
  },
  {
   "cell_type": "code",
   "execution_count": null,
   "id": "5",
   "metadata": {},
   "outputs": [],
   "source": [
    "from jobflow import JobStore, run_locally\n",
    "from maggma.stores import MemoryStore\n",
    "from pymatgen.core import Structure\n",
    "\n",
    "from atomate2.vasp.flows.gruneisen import GruneisenMaker, PhononMaker\n",
    "\n",
    "warnings.filterwarnings(\"ignore\")\n",
    "\n",
    "job_store = JobStore(\n",
    "    MemoryStore(),\n",
    "    additional_stores={\"data\": MemoryStore()},\n",
    ")\n",
    "si_structure = Structure.from_file(TEST_DIR / \"structures\" / \"Si_diamond.cif\")"
   ]
  },
  {
   "cell_type": "code",
   "execution_count": null,
   "id": "6",
   "metadata": {},
   "outputs": [],
   "source": [
    "phonon_displacement_maker = PhononDisplacementMaker(\n",
    "    name=\"dft phonon static\",\n",
    "    run_vasp_kwargs={\"handlers\": ()},\n",
    "    input_set_generator=StaticSetGenerator(\n",
    "        user_incar_settings={\n",
    "            \"GGA\": \"PE\",\n",
    "            \"IBRION\": -1,\n",
    "            \"ISPIN\": 1,\n",
    "            \"ISMEAR\": 0,\n",
    "            \"ISIF\": 3,\n",
    "            \"ENCUT\": 700,\n",
    "            \"EDIFF\": 1e-7,\n",
    "            \"LAECHG\": False,\n",
    "            \"LREAL\": False,\n",
    "            \"ALGO\": \"Normal\",\n",
    "            \"NSW\": 0,\n",
    "            \"LCHARG\": False,\n",
    "            \"LWAVE\": False,\n",
    "            \"LVTOT\": False,\n",
    "            \"LORBIT\": None,\n",
    "            \"LOPTICS\": False,\n",
    "            \"SIGMA\": 0.05,\n",
    "            \"ISYM\": 0,\n",
    "            \"KSPACING\": 0.1,\n",
    "            \"NPAR\": 4,\n",
    "        },\n",
    "        auto_ispin=False,\n",
    "    ),\n",
    ")"
   ]
  },
  {
   "cell_type": "code",
   "execution_count": null,
   "id": "7",
   "metadata": {},
   "outputs": [],
   "source": [
    "phonon_bulk_relax_maker_isif3 = DoubleRelaxMaker.from_relax_maker(\n",
    "    TightRelaxMaker(\n",
    "        run_vasp_kwargs={\"handlers\": ()},\n",
    "        input_set_generator=TightRelaxSetGenerator(\n",
    "            user_incar_settings={\n",
    "                \"GGA\": \"PE\",\n",
    "                \"ISPIN\": 1,\n",
    "                \"KSPACING\": 0.1,\n",
    "                # \"EDIFFG\": 1e-5,\n",
    "                \"ALGO\": \"Normal\",\n",
    "                \"LAECHG\": False,\n",
    "                \"ISMEAR\": 0,\n",
    "                \"ENCUT\": 700,\n",
    "                \"IBRION\": 1,\n",
    "                \"ISYM\": 0,\n",
    "                \"SIGMA\": 0.05,\n",
    "                \"LCHARG\": False,\n",
    "                \"LWAVE\": False,\n",
    "                \"LVTOT\": False,\n",
    "                \"LORBIT\": None,\n",
    "                \"LOPTICS\": False,\n",
    "                \"LREAL\": False,\n",
    "                \"ISIF\": 3,\n",
    "                \"NPAR\": 4,\n",
    "            }\n",
    "        ),\n",
    "    )\n",
    ")"
   ]
  },
  {
   "cell_type": "markdown",
   "id": "8",
   "metadata": {},
   "source": [
    "Then one can use the `GruneisenMaker` to generate a `Flow`."
   ]
  },
  {
   "cell_type": "code",
   "execution_count": null,
   "id": "9",
   "metadata": {},
   "outputs": [],
   "source": [
    "flow = GruneisenMaker(\n",
    "    symprec=1e-4,\n",
    "    bulk_relax_maker=phonon_bulk_relax_maker_isif3,\n",
    "    phonon_maker=PhononMaker(\n",
    "        generate_frequencies_eigenvectors_kwargs={\n",
    "            \"tmin\": 0,\n",
    "            \"tmax\": 1000,\n",
    "            \"tstep\": 10,\n",
    "        },\n",
    "        min_length=10,\n",
    "        bulk_relax_maker=None,\n",
    "        born_maker=None,\n",
    "        static_energy_maker=None,\n",
    "        phonon_displacement_maker=phonon_displacement_maker,\n",
    "    ),\n",
    ").make(structure=si_structure)"
   ]
  },
  {
   "cell_type": "code",
   "execution_count": null,
   "id": "10",
   "metadata": {},
   "outputs": [],
   "source": [
    "flow.draw_graph().show()"
   ]
  },
  {
   "cell_type": "markdown",
   "id": "11",
   "metadata": {},
   "source": [
    "We can then run the code with \"mock_vasp\"."
   ]
  },
  {
   "cell_type": "code",
   "execution_count": null,
   "id": "12",
   "metadata": {
    "jupyter": {
     "is_executing": true
    }
   },
   "outputs": [],
   "source": [
    "with mock_vasp(ref_paths=ref_paths) as mf:\n",
    "    run_locally(\n",
    "        flow,\n",
    "        create_folders=True,\n",
    "        ensure_success=True,\n",
    "        raise_immediately=True,\n",
    "        store=job_store,\n",
    "    )"
   ]
  },
  {
   "cell_type": "markdown",
   "id": "13",
   "metadata": {},
   "source": [
    "Let's then analyze outputs from the workflow."
   ]
  },
  {
   "cell_type": "code",
   "execution_count": null,
   "id": "14",
   "metadata": {},
   "outputs": [],
   "source": [
    "job_store.connect()\n",
    "\n",
    "result = job_store.query_one(\n",
    "    {\"name\": \"compute_gruneisen_param\"},\n",
    "    properties=[\n",
    "        \"output.gruneisen_band_structure\",\n",
    "        \"output.gruneisen_parameter\",\n",
    "    ],\n",
    "    load=True,\n",
    "    sort={\"completed_at\": -1},  # to get the latest computation\n",
    ")"
   ]
  },
  {
   "cell_type": "code",
   "execution_count": null,
   "id": "15",
   "metadata": {},
   "outputs": [],
   "source": [
    "from pymatgen.phonon.gruneisen import GruneisenPhononBandStructureSymmLine\n",
    "from pymatgen.phonon.plotter import GruneisenPhononBSPlotter\n",
    "\n",
    "bs = GruneisenPhononBandStructureSymmLine.from_dict(\n",
    "    result[\"output\"][\"gruneisen_band_structure\"]\n",
    ")\n",
    "plt = GruneisenPhononBSPlotter(bs=bs)\n",
    "plt.get_plot_gs(plot_ph_bs_with_gruneisen=True)"
   ]
  }
 ],
 "metadata": {
  "language_info": {
   "codemirror_mode": {
    "name": "ipython",
    "version": 2
   },
   "file_extension": ".py",
   "mimetype": "text/x-python",
   "name": "python",
   "nbconvert_exporter": "python",
   "pygments_lexer": "ipython2",
   "version": "2.7.6"
  }
 },
 "nbformat": 4,
 "nbformat_minor": 5
}
