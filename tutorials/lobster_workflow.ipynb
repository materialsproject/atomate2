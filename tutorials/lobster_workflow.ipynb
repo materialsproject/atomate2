{
 "cells": [
  {
   "cell_type": "markdown",
   "id": "0",
   "metadata": {},
   "source": [
    "# LOBSTER Workflow Tutorial (Using VASP for DFT)"
   ]
  },
  {
   "cell_type": "markdown",
   "id": "1",
   "metadata": {},
   "source": [
    "The first lines are needed to ensure that we can mock VASP and LOBSTER runs. The test files here might not belong to the same calculation but are good enough for testing."
   ]
  },
  {
   "cell_type": "code",
   "execution_count": null,
   "id": "2",
   "metadata": {},
   "outputs": [],
   "source": [
    "import warnings\n",
    "\n",
    "from mock_lobster import mock_lobster\n",
    "from mock_vasp import TEST_DIR, mock_vasp\n",
    "\n",
    "ref_paths = {\n",
    "    \"relax 1\": \"Si_lobster_uniform/relax_1\",\n",
    "    \"relax 2\": \"Si_lobster_uniform/relax_2\",\n",
    "    \"static\": \"Si_lobster_uniform/static\",\n",
    "    \"non-scf uniform\": \"Si_lobster_uniform/non-scf_uniform\",\n",
    "}\n",
    "ref_paths_lobster = {\n",
    "    \"lobster_run_0\": \"Si_lobster/lobster_0\",\n",
    "}"
   ]
  },
  {
   "cell_type": "markdown",
   "id": "3",
   "metadata": {},
   "source": [
    "We first load a structure that we want to analyze with bonding analysis."
   ]
  },
  {
   "cell_type": "code",
   "execution_count": null,
   "id": "4",
   "metadata": {},
   "outputs": [],
   "source": [
    "from jobflow import JobStore, run_locally\n",
    "from maggma.stores import MemoryStore\n",
    "from pymatgen.core import Structure\n",
    "\n",
    "from atomate2.vasp.flows.lobster import LobsterMaker, VaspLobsterMaker\n",
    "from atomate2.vasp.powerups import update_user_incar_settings\n",
    "\n",
    "warnings.filterwarnings(\"ignore\")\n",
    "\n",
    "job_store = JobStore(MemoryStore(), additional_stores={\"data\": MemoryStore()})\n",
    "si_structure = Structure.from_file(TEST_DIR / \"structures\" / \"Si.cif\")"
   ]
  },
  {
   "cell_type": "markdown",
   "id": "5",
   "metadata": {},
   "source": [
    "Then, we initialize a workflow:"
   ]
  },
  {
   "cell_type": "code",
   "execution_count": null,
   "id": "6",
   "metadata": {},
   "outputs": [],
   "source": [
    "job = VaspLobsterMaker(\n",
    "    lobster_maker=LobsterMaker(\n",
    "        task_document_kwargs={\n",
    "            \"calc_quality_kwargs\": {\"potcar_symbols\": [\"Si\"], \"n_bins\": 10},\n",
    "            \"add_coxxcar_to_task_document\": True,\n",
    "        },\n",
    "        user_lobsterin_settings={\n",
    "            \"COHPstartEnergy\": -5.0,\n",
    "            \"COHPEndEnergy\": 5.0,\n",
    "            \"cohpGenerator\": \"from 0.1 to 3.0 orbitalwise\",\n",
    "        },\n",
    "    ),\n",
    "    delete_wavecars=True,\n",
    ").make(si_structure)\n",
    "job = update_user_incar_settings(job, {\"NPAR\": 4})\n",
    "\n",
    "# run the flow or job and ensure that it finished running successfully"
   ]
  },
  {
   "cell_type": "markdown",
   "id": "7",
   "metadata": {},
   "source": [
    "We then run this workflow locally to show-case the capabilities. In real-life, you would omit the `mock*` parts."
   ]
  },
  {
   "cell_type": "code",
   "execution_count": null,
   "id": "8",
   "metadata": {},
   "outputs": [],
   "source": [
    "with mock_vasp(ref_paths) as mf, mock_lobster(ref_paths_lobster) as mf2:\n",
    "    responses = run_locally(\n",
    "        job,\n",
    "        store=job_store,\n",
    "        create_folders=True,\n",
    "        ensure_success=True,\n",
    "        raise_immediately=True,\n",
    "    )"
   ]
  },
  {
   "cell_type": "markdown",
   "id": "9",
   "metadata": {},
   "source": [
    "We can also analyze the data from the database"
   ]
  },
  {
   "cell_type": "code",
   "execution_count": null,
   "id": "10",
   "metadata": {},
   "outputs": [],
   "source": [
    "from pymatgen.electronic_structure.cohp import Cohp\n",
    "from pymatgen.electronic_structure.plotter import CohpPlotter\n",
    "\n",
    "store = job_store\n",
    "\n",
    "result = store.query_one(\n",
    "    {\"name\": \"lobster_run_0\"},\n",
    "    properties=[\n",
    "        \"output.lobsterpy_data.cohp_plot_data\",\n",
    "        \"output.lobsterpy_data_cation_anion.cohp_plot_data\",\n",
    "    ],\n",
    "    load=True,\n",
    ")\n",
    "\n",
    "for key, cohp in result[\"output\"][\"lobsterpy_data\"][\"cohp_plot_data\"][\"data\"].items():\n",
    "    plotter = CohpPlotter()\n",
    "    cohp_obj = Cohp.from_dict(cohp)\n",
    "    plotter.add_cohp(key, cohp_obj)\n",
    "    plotter.show()\n",
    "\n",
    "for key, cohp in result[\"output\"][\"lobsterpy_data_cation_anion\"][\"cohp_plot_data\"][\n",
    "    \"data\"\n",
    "].items():\n",
    "    plotter = CohpPlotter()\n",
    "    cohp_obj = Cohp.from_dict(cohp)\n",
    "    plotter.add_cohp(key, cohp_obj)\n",
    "    plotter.show()"
   ]
  }
 ],
 "metadata": {
  "language_info": {
   "codemirror_mode": {
    "name": "ipython",
    "version": 2
   },
   "file_extension": ".py",
   "mimetype": "text/x-python",
   "name": "python",
   "nbconvert_exporter": "python",
   "pygments_lexer": "ipython2",
   "version": "2.7.6"
  }
 },
 "nbformat": 4,
 "nbformat_minor": 5
}
