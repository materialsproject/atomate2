{
 "cells": [
  {
   "cell_type": "markdown",
   "metadata": {},
   "source": [
    "## Running Materials Project Compatible workflows using VASP / DFT\n",
    "\n",
    "As of early 2025, the majority of the calculations in the [Materials Project (MP) database](https://next-gen.materialsproject.org/materials) are performed with [PBE GGA](https://doi.org/10.1103/PhysRevLett.77.3865) and PBE+<i>U</i> density funcitonal theory (DFT) calculations, with about a quarter coming from [r<sup>2</sup>SCAN calculations](https://doi.org/10.1021/acs.jpclett.0c02405) instead.\n",
    "\n",
    "In this example, you will use the Materials Project workflows and corrections/mixing schemes for [PBE and PBE+<i>U</i>](https://doi.org/10.1103/PhysRevB.84.045115), and for [r<sup>2</sup>SCAN](https://doi.org/10.1038/s41524-022-00881-w), to generate a partial compositional phase diagram for the V-O compositional space. The mixing and corrections schemes are used to better align PBE, PBE+<i>U</i>, and r<sup>2</sup>SCAN convex hulls, and to correct known errors in approximate DFT to predict more accurate enthalpies of formation.\n",
    "\n",
    "<b>Note:</b> <i>The Materials Project is currently recomputing the entirety of its database with updated r<sup>2</sup>SCAN workflows. We will focus first on the current set of calculations, and mention these updated workflows at the end of the notebook.</i>\n",
    "\n",
    "Let's start by investigating the input sets used by MP"
   ]
  },
  {
   "cell_type": "code",
   "execution_count": 1,
   "metadata": {},
   "outputs": [
    {
     "name": "stdout",
     "output_type": "stream",
     "text": [
      "PBE GGA / +U INCAR:\n",
      "  ALGO: FAST\n",
      "  EDIFF_PER_ATOM: 5e-05\n",
      "  ENCUT: 520\n",
      "  IBRION: 2\n",
      "  ISIF: 3\n",
      "  ISMEAR: -5\n",
      "  ISPIN: 2\n",
      "  LASPH: True\n",
      "  LDAU: True\n",
      "  LDAUJ: {'F': {'Co': 0, 'Cr': 0, 'Fe': 0, 'Mn': 0, 'Mo': 0, 'Ni': 0, 'V': 0, 'W': 0}, 'O': {'Co': 0, 'Cr': 0, 'Fe': 0, 'Mn': 0, 'Mo': 0, 'Ni': 0, 'V': 0, 'W': 0}}\n",
      "  LDAUL: {'F': {'Co': 2, 'Cr': 2, 'Fe': 2, 'Mn': 2, 'Mo': 2, 'Ni': 2, 'V': 2, 'W': 2}, 'O': {'Co': 2, 'Cr': 2, 'Fe': 2, 'Mn': 2, 'Mo': 2, 'Ni': 2, 'V': 2, 'W': 2}}\n",
      "  LDAUTYPE: 2\n",
      "  LDAUU: {'F': {'Co': 3.32, 'Cr': 3.7, 'Fe': 5.3, 'Mn': 3.9, 'Mo': 4.38, 'Ni': 6.2, 'V': 3.25, 'W': 6.2}, 'O': {'Co': 3.32, 'Cr': 3.7, 'Fe': 5.3, 'Mn': 3.9, 'Mo': 4.38, 'Ni': 6.2, 'V': 3.25, 'W': 6.2}}\n",
      "  LDAUPRINT: 1\n",
      "  LORBIT: 11\n",
      "  LREAL: AUTO\n",
      "  LWAVE: False\n",
      "  NELM: 100\n",
      "  NSW: 99\n",
      "  PREC: Accurate\n",
      "  SIGMA: 0.05\n",
      "  MAGMOM: {'Ce': 5, 'Ce3+': 1, 'Co': 0.6, 'Co3+': 0.6, 'Co4+': 1, 'Cr': 5, 'Dy3+': 5, 'Er3+': 3, 'Eu': 10, 'Eu2+': 7, 'Eu3+': 6, 'Fe': 5, 'Gd3+': 7, 'Ho3+': 4, 'La3+': 0.6, 'Lu3+': 0.6, 'Mn': 5, 'Mn3+': 4, 'Mn4+': 3, 'Mo': 5, 'Nd3+': 3, 'Ni': 5, 'Pm3+': 4, 'Pr3+': 2, 'Sm3+': 5, 'Tb3+': 6, 'Tm3+': 2, 'V': 5, 'W': 5, 'Yb3+': 1}\n",
      "r2SCAN meta-GGA INCAR:\n",
      "  ALGO: ALL\n",
      "  EDIFF: 1e-05\n",
      "  EDIFFG: -0.02\n",
      "  ENAUG: 1360\n",
      "  ENCUT: 680\n",
      "  IBRION: 2\n",
      "  ISIF: 3\n",
      "  ISMEAR: 0\n",
      "  ISPIN: 2\n",
      "  KSPACING: 0.22\n",
      "  LAECHG: True\n",
      "  LASPH: True\n",
      "  LCHARG: True\n",
      "  LELF: False\n",
      "  LMIXTAU: True\n",
      "  LORBIT: 11\n",
      "  LREAL: Auto\n",
      "  LVTOT: True\n",
      "  LWAVE: False\n",
      "  METAGGA: R2SCAN\n",
      "  NELM: 200\n",
      "  NSW: 99\n",
      "  PREC: Accurate\n",
      "  SIGMA: 0.05\n",
      "  MAGMOM: {'Ce': 5, 'Ce3+': 1, 'Co': 0.6, 'Co3+': 0.6, 'Co4+': 1, 'Cr': 5, 'Dy3+': 5, 'Er3+': 3, 'Eu': 10, 'Eu2+': 7, 'Eu3+': 6, 'Fe': 5, 'Gd3+': 7, 'Ho3+': 4, 'La3+': 0.6, 'Lu3+': 0.6, 'Mn': 5, 'Mn3+': 4, 'Mn4+': 3, 'Mo': 5, 'Nd3+': 3, 'Ni': 5, 'Pm3+': 4, 'Pr3+': 2, 'Sm3+': 5, 'Tb3+': 6, 'Tm3+': 2, 'V': 5, 'W': 5, 'Yb3+': 1}\n"
     ]
    }
   ],
   "source": [
    "from __future__ import annotations\n",
    "\n",
    "from pymatgen.io.vasp.sets import MPRelaxSet, MPScanRelaxSet\n",
    "\n",
    "print(  # noqa: T201\n",
    "    \"PBE GGA / +U INCAR:\\n\"\n",
    "    + \"\\n\".join(f\"  {k}: {v}\" for k, v in MPRelaxSet.CONFIG[\"INCAR\"].items())\n",
    ")\n",
    "print(  # noqa: T201\n",
    "    \"r2SCAN meta-GGA INCAR:\\n\"\n",
    "    + \"\\n\".join(f\"  {k}: {v}\" for k, v in MPScanRelaxSet.CONFIG[\"INCAR\"].items())\n",
    ")"
   ]
  },
  {
   "cell_type": "markdown",
   "metadata": {},
   "source": [
    "While you can set up MP compatible VASP calculations by hand, it's usually best practice to use the pre-defined workflows in `atomate2`.\n",
    "For PBE GGA/+<i>U</i> calculations, the workflow is `atomate2.vasp.flows.mp.MPGGADoubleRelaxStaticMaker`. For r<sup>2</sup>SCAN, the workflow is `atomate2.vasp.flows.mp.MPMetaGGADoubleRelaxStaticMaker`.\n",
    "\n",
    "We start by pulling a few structures from the Materials Project API in the V-O system, importantly including the unaries."
   ]
  },
  {
   "cell_type": "code",
   "execution_count": 5,
   "metadata": {
    "tags": [
     "skip-execution"
    ]
   },
   "outputs": [
    {
     "data": {
      "application/vnd.jupyter.widget-view+json": {
       "model_id": "3487d6c512684cbeafdf1b9d7c7c56a5",
       "version_major": 2,
       "version_minor": 0
      },
      "text/plain": [
       "Retrieving SummaryDoc documents:   0%|          | 0/4 [00:00<?, ?it/s]"
      ]
     },
     "metadata": {},
     "output_type": "display_data"
    },
    {
     "name": "stdout",
     "output_type": "stream",
     "text": [
      "mp-12957 O8\n",
      "1.0\n",
      "   3.1101070000000002    4.3774280000000001    0.0000000000000000\n",
      "   3.1101070000000002   -4.3774280000000001    0.0000000000000000\n",
      "   0.0000000000000000   -1.9083120000000000   -3.9533450000000001\n",
      "O\n",
      "8\n",
      "direct\n",
      "   0.2139109999999997    0.2734589999999988    0.8446089999999995 O\n",
      "   0.2734589999999988    0.2139109999999999    0.1553910000000005 O\n",
      "   0.7860889999999999    0.7265410000000010    0.1553910000000005 O\n",
      "   0.7265410000000010    0.7860889999999999    0.8446089999999995 O\n",
      "   0.7922520000000004    0.2077479999999996    0.8216799999999995 O\n",
      "   0.2077479999999996    0.7922520000000004    0.1783200000000006 O\n",
      "   0.8517779999999995    0.1482220000000004    0.1326409999999996 O\n",
      "   0.1482220000000005    0.8517779999999995    0.8673590000000004 O\n",
      "\n",
      "mp-18937 V4 O6\n",
      "1.0\n",
      "   2.4648877418460842    4.3700725910251847    0.0000000000000000\n",
      "   2.4648877418460842   -4.3700725910251847    0.0000000000000000\n",
      "   0.0000000000000000   -2.9541189453930183   -4.6676819387169539\n",
      "V O\n",
      "4 6\n",
      "direct\n",
      "   0.3456787299999999    0.1565176600000000    0.0422260900000000 V\n",
      "   0.1565176600000002    0.3456787299999999    0.4577739100000001 V\n",
      "   0.6543212700000001    0.8434823400000000    0.9577739100000000 V\n",
      "   0.8434823400000000    0.6543212700000001    0.5422260900000000 V\n",
      "   0.9379796399999999    0.9379796399999997    0.7500000000000001 O\n",
      "   0.0620203600000002    0.0620203600000002    0.2500000000000000 O\n",
      "   0.7498613999999998    0.4347180500000000    0.2562409400000001 O\n",
      "   0.2501386000000001    0.5652819499999999    0.7437590599999999 O\n",
      "   0.5652819500000000    0.2501386000000002    0.7562409400000001 O\n",
      "   0.4347180499999999    0.7498613999999998    0.2437590599999999 O\n",
      "\n",
      "mp-146 V1\n",
      "1.0\n",
      "  -1.4911995862470822    1.4911995862470822    1.4911995862470822\n",
      "   1.4911995862470822   -1.4911995862470822    1.4911995862470822\n",
      "   1.4911995862470822    1.4911995862470822   -1.4911995862470819\n",
      "V\n",
      "1\n",
      "direct\n",
      "   0.0000000000000000    0.0000000000000000    0.0000000000000000 V\n",
      "\n",
      "mp-541404 V4 O8\n",
      "1.0\n",
      "   1.8439987142166661    5.9880868432669709    0.0000000000000000\n",
      "   1.8439987142166661   -5.9880868432669709    0.0000000000000000\n",
      "   0.0000000000000000   -1.8473482089772599   -6.1327851635458588\n",
      "V O\n",
      "4 8\n",
      "direct\n",
      "   0.3035356699999998    0.6964643300000000    0.7207595800000001 V\n",
      "   0.6964643299999999    0.3035356700000000    0.2792404199999999 V\n",
      "   0.3998421199999997    0.6001578799999999    0.3015058499999999 V\n",
      "   0.6001578799999998    0.3998421200000001    0.6984941500000001 V\n",
      "   0.3623664649999998    0.6376335350000000    0.9922722400000001 O\n",
      "   0.6376335349999999    0.3623664650000000    0.0077277600000000 O\n",
      "   0.2324424749999998    0.7675575249999999    0.3457944899999998 O\n",
      "   0.7675575249999997    0.2324424750000000    0.6542055100000002 O\n",
      "   0.4406924349999999    0.5593075649999999    0.6306869700000001 O\n",
      "   0.5593075649999999    0.4406924350000001    0.3693130299999999 O\n",
      "   0.1345345600000001    0.8654654399999999    0.7047645100000001 O\n",
      "   0.8654654399999997    0.1345345600000002    0.2952354899999999 O\n",
      "\n"
     ]
    }
   ],
   "source": [
    "from mp_api.client import MPRester\n",
    "\n",
    "with MPRester() as mpr:\n",
    "    docs = mpr.materials.summary.search(\n",
    "        material_ids=[\"mp-146\", \"mp-12957\", \"mp-18937\", \"mp-541404\"],\n",
    "        fields=[\"material_id\", \"structure\"],\n",
    "    )\n",
    "structures = {doc.material_id.string: doc.structure.to_primitive() for doc in docs}\n",
    "for mp_id, structure in structures.items():\n",
    "    print(structure.to(fmt=\"poscar\", comment=f\"{mp_id} {structure.formula}\"))  # noqa: T201"
   ]
  },
  {
   "cell_type": "markdown",
   "metadata": {},
   "source": [
    "### If you don't have access to VASP, or just want to run the tutorial example:\n",
    "\n",
    "All test data is provided with this example (including raw VASP input and output), just run the following code block:"
   ]
  },
  {
   "cell_type": "code",
   "execution_count": 2,
   "metadata": {},
   "outputs": [],
   "source": [
    "from mock_vasp import TEST_DIR, mock_vasp\n",
    "from monty.serialization import loadfn\n",
    "\n",
    "tasks = loadfn(TEST_DIR / \"vasp\" / \"mp_phase_diagram_tutorial\" / \"MP-example-V-O-phase-diagram.json.gz\")\n",
    "\n",
    "structures = {mp_id: task_block[\"PBEsol Structure Optimization\"].input.structure for mp_id, task_block in tasks.items()}"
   ]
  },
  {
   "cell_type": "markdown",
   "metadata": {},
   "source": [
    "Now let's actually set up the workflows! For these calculations, we will adjust \"parallelization settings\" to ensure that our calculations run quickly.\n",
    "If you are not familiar with these settings in VASP, it's best to [read the manual section in VASP](https://www.vasp.at/wiki/index.php/Category:Parallelization).\n",
    "\n",
    "If you run VASP on CPU nodes on a cluster/HPC, you want to modify:\n",
    "- [NCORE](https://www.vasp.at/wiki/index.php/NCORE): how many individual cores work on a single orbital\n",
    "- [KPAR](https://www.vasp.at/wiki/index.php/KPAR): how many <i>k</i> points are treated in parallel\n",
    "\n",
    "If you run VASP on GPU nodes on a cluster/HPC, you will modify:\n",
    "- [NSIM](https://www.vasp.at/wiki/index.php/NSIM): parallelization over bands for certain optimizers\n",
    "- KPAR\n",
    "- NCORE = 1\n",
    "\n",
    "To do the latter part, we will use the powerups in `atomate2`. We will also save our results to JSON-format output using `monty`.\n",
    "\n",
    "For parallelization settings, I'm running these on GPU nodes, so I set `NCORE = 1`, `KPAR = 8` (using 8 individual GPUs), and setting `NSIM=8` as a reasonable value that does not increase the memory demands too much.'\n",
    "\n",
    "Note that we also update the names of the jobs and their metadata to make it easier to query output later when we build the phase diagram."
   ]
  },
  {
   "cell_type": "code",
   "execution_count": 3,
   "metadata": {},
   "outputs": [],
   "source": [
    "from jobflow import Flow, run_locally, JobStore\n",
    "from maggma.stores import MemoryStore\n",
    "from monty.serialization import dumpfn\n",
    "\n",
    "from atomate2.vasp.flows.mp import (\n",
    "    MPGGADoubleRelaxStaticMaker,\n",
    "    MPMetaGGADoubleRelaxStaticMaker,\n",
    ")\n",
    "from atomate2.vasp.powerups import update_user_incar_settings\n",
    "from mock_vasp import TEST_DIR, mock_vasp\n",
    "\n",
    "jobs = []\n",
    "for mp_id, structure in structures.items():\n",
    "    pbe_job = MPGGADoubleRelaxStaticMaker().make(structure)\n",
    "    pbe_job.append_name(f\" {mp_id}\")\n",
    "    pbe_job.update_metadata({\"mp_id\": mp_id})\n",
    "\n",
    "    r2scan_job = MPMetaGGADoubleRelaxStaticMaker().make(structure)\n",
    "    r2scan_job.append_name(f\" {mp_id}\")\n",
    "    pbe_job.update_metadata({\"mp_id\": mp_id})\n",
    "\n",
    "    jobs.extend([pbe_job, r2scan_job])\n",
    "\n",
    "all_jobs = Flow(jobs)\n",
    "all_jobs = update_user_incar_settings(all_jobs, {\"NCORE\": 1, \"KPAR\": 8, \"NSIM\": 8})"
   ]
  },
  {
   "cell_type": "code",
   "execution_count": 4,
   "metadata": {},
   "outputs": [
    {
     "name": "stdout",
     "output_type": "stream",
     "text": [
      "2025-04-04 11:22:41,744 INFO Started executing jobs locally\n",
      "2025-04-04 11:22:41,754 INFO Starting job - MP GGA relax 1 mp-146 (270a409c-9c04-42cf-8740-ee21a5f133b7)\n",
      "2025-04-04 11:22:41,875 INFO Finished job - MP GGA relax 1 mp-146 (270a409c-9c04-42cf-8740-ee21a5f133b7)\n",
      "2025-04-04 11:22:41,875 WARNING Response.stored_data is not supported with local manager.\n",
      "2025-04-04 11:22:41,876 INFO Starting job - MP GGA relax 2 mp-146 (f25b3296-43ee-4388-8f99-bd5aa7716772)\n"
     ]
    },
    {
     "name": "stderr",
     "output_type": "stream",
     "text": [
      "/Users/aaronkaplan/miniconda3/envs/matpes_mlff/lib/python3.11/site-packages/jobflow/core/flow.py:423: UserWarning: Some jobs are not connected, their ordering may be random\n",
      "  for node in itergraph(graph):\n",
      "/Users/aaronkaplan/miniconda3/envs/matpes_mlff/lib/python3.11/site-packages/pymatgen/io/vasp/sets.py:483: BadInputSetWarning: Relaxation of likely metal with ISMEAR < 0 (-5). See VASP recommendations on ISMEAR for metals (https://www.vasp.at/wiki/index.php/ISMEAR).\n",
      "  incar=self.incar,\n",
      "/Users/aaronkaplan/miniconda3/envs/matpes_mlff/lib/python3.11/site-packages/pymatgen/io/vasp/outputs.py:1280: UserWarning: No POTCAR file with matching TITEL fields was found in\n",
      "\n",
      "  if potcar := self.get_potcars(path):\n",
      "/Users/aaronkaplan/miniconda3/envs/matpes_mlff/lib/python3.11/site-packages/pymatgen/io/vasp/outputs.py:1291: UserWarning: No POTCAR file with matching TITEL fields was found in\n",
      "\n",
      "  potcar = self.get_potcars(path)\n",
      "/Users/aaronkaplan/Library/CloudStorage/Dropbox/mp_soft_engr/software/atomate2/src/atomate2/common/files.py:268: UserWarning: /private/var/folders/mv/ltq1lcxn15d0wngg9vlgd1jw0000gn/T/tmpzod5hxrv/job_2025-04-04-18-22-41-876159-62130/POTCAR.spec is not gzipped, skipping...\n",
      "  file_client.gunzip(directory / file, host=host, force=force)\n"
     ]
    },
    {
     "name": "stdout",
     "output_type": "stream",
     "text": [
      "2025-04-04 11:22:42,024 INFO Finished job - MP GGA relax 2 mp-146 (f25b3296-43ee-4388-8f99-bd5aa7716772)\n",
      "2025-04-04 11:22:42,024 WARNING Response.stored_data is not supported with local manager.\n",
      "2025-04-04 11:22:42,025 INFO Starting job - MP GGA static mp-146 (1d6f9ee8-8681-4612-8c6f-ffc3faf87f74)\n",
      "2025-04-04 11:22:42,161 INFO Finished job - MP GGA static mp-146 (1d6f9ee8-8681-4612-8c6f-ffc3faf87f74)\n",
      "2025-04-04 11:22:42,162 WARNING Response.stored_data is not supported with local manager.\n",
      "2025-04-04 11:22:42,162 INFO Starting job - MP pre-relax 1 mp-146 (1d51936f-6595-4fdd-a29b-b66381650dd8)\n"
     ]
    },
    {
     "name": "stderr",
     "output_type": "stream",
     "text": [
      "/Users/aaronkaplan/Library/CloudStorage/Dropbox/mp_soft_engr/software/atomate2/src/atomate2/common/files.py:268: UserWarning: /private/var/folders/mv/ltq1lcxn15d0wngg9vlgd1jw0000gn/T/tmpzod5hxrv/job_2025-04-04-18-22-42-025044-71396/POTCAR.spec is not gzipped, skipping...\n",
      "  file_client.gunzip(directory / file, host=host, force=force)\n"
     ]
    },
    {
     "name": "stdout",
     "output_type": "stream",
     "text": [
      "2025-04-04 11:22:42,319 INFO Finished job - MP pre-relax 1 mp-146 (1d51936f-6595-4fdd-a29b-b66381650dd8)\n",
      "2025-04-04 11:22:42,319 WARNING Response.stored_data is not supported with local manager.\n",
      "2025-04-04 11:22:42,319 INFO Starting job - MP meta-GGA relax 2 mp-146 (278defc1-6cd6-4fe9-b965-85fc86361414)\n"
     ]
    },
    {
     "name": "stderr",
     "output_type": "stream",
     "text": [
      "/Users/aaronkaplan/Library/CloudStorage/Dropbox/mp_soft_engr/software/atomate2/src/atomate2/common/files.py:268: UserWarning: /private/var/folders/mv/ltq1lcxn15d0wngg9vlgd1jw0000gn/T/tmpzod5hxrv/job_2025-04-04-18-22-42-319769-36927/POTCAR.spec is not gzipped, skipping...\n",
      "  file_client.gunzip(directory / file, host=host, force=force)\n"
     ]
    },
    {
     "name": "stdout",
     "output_type": "stream",
     "text": [
      "2025-04-04 11:22:42,642 INFO Finished job - MP meta-GGA relax 2 mp-146 (278defc1-6cd6-4fe9-b965-85fc86361414)\n",
      "2025-04-04 11:22:42,642 WARNING Response.stored_data is not supported with local manager.\n",
      "2025-04-04 11:22:42,643 INFO Starting job - MP meta-GGA static mp-146 (94e5bb3f-7b29-4d8a-90e4-7560839fabae)\n",
      "2025-04-04 11:22:42,849 INFO Finished job - MP meta-GGA static mp-146 (94e5bb3f-7b29-4d8a-90e4-7560839fabae)\n",
      "2025-04-04 11:22:42,850 WARNING Response.stored_data is not supported with local manager.\n",
      "2025-04-04 11:22:42,850 INFO Starting job - MP GGA relax 1 mp-18937 (6026eb04-b098-4251-b4f6-54894de191ad)\n"
     ]
    },
    {
     "name": "stderr",
     "output_type": "stream",
     "text": [
      "/Users/aaronkaplan/Library/CloudStorage/Dropbox/mp_soft_engr/software/atomate2/src/atomate2/common/files.py:268: UserWarning: /private/var/folders/mv/ltq1lcxn15d0wngg9vlgd1jw0000gn/T/tmpzod5hxrv/job_2025-04-04-18-22-42-642947-47101/POTCAR.spec is not gzipped, skipping...\n",
      "  file_client.gunzip(directory / file, host=host, force=force)\n"
     ]
    },
    {
     "name": "stdout",
     "output_type": "stream",
     "text": [
      "2025-04-04 11:22:43,534 INFO Finished job - MP GGA relax 1 mp-18937 (6026eb04-b098-4251-b4f6-54894de191ad)\n",
      "2025-04-04 11:22:43,535 WARNING Response.stored_data is not supported with local manager.\n",
      "2025-04-04 11:22:43,535 INFO Starting job - MP GGA relax 2 mp-18937 (daa6b6fb-5ffb-4745-b7ea-f0e082a503a4)\n"
     ]
    },
    {
     "name": "stderr",
     "output_type": "stream",
     "text": [
      "/Users/aaronkaplan/Library/CloudStorage/Dropbox/mp_soft_engr/software/atomate2/src/atomate2/common/files.py:268: UserWarning: /private/var/folders/mv/ltq1lcxn15d0wngg9vlgd1jw0000gn/T/tmpzod5hxrv/job_2025-04-04-18-22-43-535435-36021/POTCAR.spec is not gzipped, skipping...\n",
      "  file_client.gunzip(directory / file, host=host, force=force)\n"
     ]
    },
    {
     "name": "stdout",
     "output_type": "stream",
     "text": [
      "2025-04-04 11:22:44,599 INFO Finished job - MP GGA relax 2 mp-18937 (daa6b6fb-5ffb-4745-b7ea-f0e082a503a4)\n",
      "2025-04-04 11:22:44,599 WARNING Response.stored_data is not supported with local manager.\n",
      "2025-04-04 11:22:44,600 INFO Starting job - MP GGA static mp-18937 (0e81d7a5-1779-4903-9504-635446ec557d)\n"
     ]
    },
    {
     "name": "stderr",
     "output_type": "stream",
     "text": [
      "/Users/aaronkaplan/Library/CloudStorage/Dropbox/mp_soft_engr/software/atomate2/src/atomate2/common/files.py:268: UserWarning: /private/var/folders/mv/ltq1lcxn15d0wngg9vlgd1jw0000gn/T/tmpzod5hxrv/job_2025-04-04-18-22-44-599806-98317/POTCAR.spec is not gzipped, skipping...\n",
      "  file_client.gunzip(directory / file, host=host, force=force)\n"
     ]
    },
    {
     "name": "stdout",
     "output_type": "stream",
     "text": [
      "2025-04-04 11:22:45,461 INFO Finished job - MP GGA static mp-18937 (0e81d7a5-1779-4903-9504-635446ec557d)\n",
      "2025-04-04 11:22:45,462 WARNING Response.stored_data is not supported with local manager.\n",
      "2025-04-04 11:22:45,462 INFO Starting job - MP pre-relax 1 mp-18937 (eb1a0b4e-62e5-4feb-a862-3ce0ed81805b)\n",
      "2025-04-04 11:22:47,059 INFO Finished job - MP pre-relax 1 mp-18937 (eb1a0b4e-62e5-4feb-a862-3ce0ed81805b)\n",
      "2025-04-04 11:22:47,060 WARNING Response.stored_data is not supported with local manager.\n",
      "2025-04-04 11:22:47,060 INFO Starting job - MP meta-GGA relax 2 mp-18937 (5f1b1d88-f858-4cf7-9128-f6d17406267a)\n"
     ]
    },
    {
     "name": "stderr",
     "output_type": "stream",
     "text": [
      "/Users/aaronkaplan/Library/CloudStorage/Dropbox/mp_soft_engr/software/atomate2/src/atomate2/common/files.py:268: UserWarning: /private/var/folders/mv/ltq1lcxn15d0wngg9vlgd1jw0000gn/T/tmpzod5hxrv/job_2025-04-04-18-22-47-060533-36843/POTCAR.spec is not gzipped, skipping...\n",
      "  file_client.gunzip(directory / file, host=host, force=force)\n"
     ]
    },
    {
     "name": "stdout",
     "output_type": "stream",
     "text": [
      "2025-04-04 11:22:50,194 INFO Finished job - MP meta-GGA relax 2 mp-18937 (5f1b1d88-f858-4cf7-9128-f6d17406267a)\n",
      "2025-04-04 11:22:50,195 WARNING Response.stored_data is not supported with local manager.\n",
      "2025-04-04 11:22:50,195 INFO Starting job - MP meta-GGA static mp-18937 (bd18e077-c949-494b-82d7-86f6044f09e3)\n"
     ]
    },
    {
     "name": "stderr",
     "output_type": "stream",
     "text": [
      "/Users/aaronkaplan/Library/CloudStorage/Dropbox/mp_soft_engr/software/atomate2/src/atomate2/common/files.py:268: UserWarning: /private/var/folders/mv/ltq1lcxn15d0wngg9vlgd1jw0000gn/T/tmpzod5hxrv/job_2025-04-04-18-22-50-195427-19732/POTCAR.spec is not gzipped, skipping...\n",
      "  file_client.gunzip(directory / file, host=host, force=force)\n"
     ]
    },
    {
     "name": "stdout",
     "output_type": "stream",
     "text": [
      "2025-04-04 11:22:52,580 INFO Finished job - MP meta-GGA static mp-18937 (bd18e077-c949-494b-82d7-86f6044f09e3)\n",
      "2025-04-04 11:22:52,581 WARNING Response.stored_data is not supported with local manager.\n",
      "2025-04-04 11:22:52,582 INFO Starting job - MP GGA relax 1 mp-12957 (cd5ae2f6-c696-47c2-a649-3572c1c0a423)\n",
      "2025-04-04 11:22:52,792 INFO Finished job - MP GGA relax 1 mp-12957 (cd5ae2f6-c696-47c2-a649-3572c1c0a423)\n",
      "2025-04-04 11:22:52,792 WARNING Response.stored_data is not supported with local manager.\n",
      "2025-04-04 11:22:52,793 INFO Starting job - MP GGA relax 2 mp-12957 (cb940a29-0b1a-4efd-b658-ee4bae886c53)\n"
     ]
    },
    {
     "name": "stderr",
     "output_type": "stream",
     "text": [
      "/Users/aaronkaplan/Library/CloudStorage/Dropbox/mp_soft_engr/software/atomate2/src/atomate2/common/files.py:268: UserWarning: /private/var/folders/mv/ltq1lcxn15d0wngg9vlgd1jw0000gn/T/tmpzod5hxrv/job_2025-04-04-18-22-52-793123-65556/POTCAR.spec is not gzipped, skipping...\n",
      "  file_client.gunzip(directory / file, host=host, force=force)\n"
     ]
    },
    {
     "name": "stdout",
     "output_type": "stream",
     "text": [
      "2025-04-04 11:22:53,211 INFO Finished job - MP GGA relax 2 mp-12957 (cb940a29-0b1a-4efd-b658-ee4bae886c53)\n",
      "2025-04-04 11:22:53,212 WARNING Response.stored_data is not supported with local manager.\n",
      "2025-04-04 11:22:53,212 INFO Starting job - MP GGA static mp-12957 (d542a8dd-9270-4cc6-bd34-c52e4c6f9e67)\n"
     ]
    },
    {
     "name": "stderr",
     "output_type": "stream",
     "text": [
      "/Users/aaronkaplan/Library/CloudStorage/Dropbox/mp_soft_engr/software/atomate2/src/atomate2/common/files.py:268: UserWarning: /private/var/folders/mv/ltq1lcxn15d0wngg9vlgd1jw0000gn/T/tmpzod5hxrv/job_2025-04-04-18-22-53-212517-90374/POTCAR.spec is not gzipped, skipping...\n",
      "  file_client.gunzip(directory / file, host=host, force=force)\n"
     ]
    },
    {
     "name": "stdout",
     "output_type": "stream",
     "text": [
      "2025-04-04 11:22:53,634 INFO Finished job - MP GGA static mp-12957 (d542a8dd-9270-4cc6-bd34-c52e4c6f9e67)\n",
      "2025-04-04 11:22:53,634 WARNING Response.stored_data is not supported with local manager.\n",
      "2025-04-04 11:22:53,635 INFO Starting job - MP pre-relax 1 mp-12957 (761dbf63-780b-438a-89d7-193f3d3b1400)\n",
      "2025-04-04 11:22:54,215 INFO Finished job - MP pre-relax 1 mp-12957 (761dbf63-780b-438a-89d7-193f3d3b1400)\n",
      "2025-04-04 11:22:54,215 WARNING Response.stored_data is not supported with local manager.\n",
      "2025-04-04 11:22:54,216 INFO Starting job - MP meta-GGA relax 2 mp-12957 (0461ea7e-2bdc-4436-b79b-ffbd25f408e3)\n"
     ]
    },
    {
     "name": "stderr",
     "output_type": "stream",
     "text": [
      "/Users/aaronkaplan/Library/CloudStorage/Dropbox/mp_soft_engr/software/atomate2/src/atomate2/common/files.py:268: UserWarning: /private/var/folders/mv/ltq1lcxn15d0wngg9vlgd1jw0000gn/T/tmpzod5hxrv/job_2025-04-04-18-22-54-215956-81092/POTCAR.spec is not gzipped, skipping...\n",
      "  file_client.gunzip(directory / file, host=host, force=force)\n"
     ]
    },
    {
     "name": "stdout",
     "output_type": "stream",
     "text": [
      "2025-04-04 11:22:55,344 INFO Finished job - MP meta-GGA relax 2 mp-12957 (0461ea7e-2bdc-4436-b79b-ffbd25f408e3)\n",
      "2025-04-04 11:22:55,345 WARNING Response.stored_data is not supported with local manager.\n",
      "2025-04-04 11:22:55,345 INFO Starting job - MP meta-GGA static mp-12957 (cc7407c0-8ad1-4327-a760-411142680761)\n"
     ]
    },
    {
     "name": "stderr",
     "output_type": "stream",
     "text": [
      "/Users/aaronkaplan/Library/CloudStorage/Dropbox/mp_soft_engr/software/atomate2/src/atomate2/common/files.py:268: UserWarning: /private/var/folders/mv/ltq1lcxn15d0wngg9vlgd1jw0000gn/T/tmpzod5hxrv/job_2025-04-04-18-22-55-345474-99449/POTCAR.spec is not gzipped, skipping...\n",
      "  file_client.gunzip(directory / file, host=host, force=force)\n"
     ]
    },
    {
     "name": "stdout",
     "output_type": "stream",
     "text": [
      "2025-04-04 11:22:55,944 INFO Finished job - MP meta-GGA static mp-12957 (cc7407c0-8ad1-4327-a760-411142680761)\n",
      "2025-04-04 11:22:55,944 WARNING Response.stored_data is not supported with local manager.\n",
      "2025-04-04 11:22:55,945 INFO Starting job - MP GGA relax 1 mp-541404 (f7f7c007-c106-442a-a04b-7844b0d15bd8)\n",
      "2025-04-04 11:22:56,626 INFO Finished job - MP GGA relax 1 mp-541404 (f7f7c007-c106-442a-a04b-7844b0d15bd8)\n",
      "2025-04-04 11:22:56,627 WARNING Response.stored_data is not supported with local manager.\n",
      "2025-04-04 11:22:56,627 INFO Starting job - MP GGA relax 2 mp-541404 (9a2b9271-63a5-4ddb-8f69-29ae7fafafec)\n"
     ]
    },
    {
     "name": "stderr",
     "output_type": "stream",
     "text": [
      "/Users/aaronkaplan/Library/CloudStorage/Dropbox/mp_soft_engr/software/atomate2/src/atomate2/common/files.py:268: UserWarning: /private/var/folders/mv/ltq1lcxn15d0wngg9vlgd1jw0000gn/T/tmpzod5hxrv/job_2025-04-04-18-22-56-627502-25820/POTCAR.spec is not gzipped, skipping...\n",
      "  file_client.gunzip(directory / file, host=host, force=force)\n"
     ]
    },
    {
     "name": "stdout",
     "output_type": "stream",
     "text": [
      "2025-04-04 11:22:57,438 INFO Finished job - MP GGA relax 2 mp-541404 (9a2b9271-63a5-4ddb-8f69-29ae7fafafec)\n",
      "2025-04-04 11:22:57,438 WARNING Response.stored_data is not supported with local manager.\n",
      "2025-04-04 11:22:57,438 INFO Starting job - MP GGA static mp-541404 (0b1dca20-3ca8-4a9e-92c6-c20f0dfc6489)\n"
     ]
    },
    {
     "name": "stderr",
     "output_type": "stream",
     "text": [
      "/Users/aaronkaplan/Library/CloudStorage/Dropbox/mp_soft_engr/software/atomate2/src/atomate2/common/files.py:268: UserWarning: /private/var/folders/mv/ltq1lcxn15d0wngg9vlgd1jw0000gn/T/tmpzod5hxrv/job_2025-04-04-18-22-57-438676-29655/POTCAR.spec is not gzipped, skipping...\n",
      "  file_client.gunzip(directory / file, host=host, force=force)\n"
     ]
    },
    {
     "name": "stdout",
     "output_type": "stream",
     "text": [
      "2025-04-04 11:22:58,206 INFO Finished job - MP GGA static mp-541404 (0b1dca20-3ca8-4a9e-92c6-c20f0dfc6489)\n",
      "2025-04-04 11:22:58,207 WARNING Response.stored_data is not supported with local manager.\n",
      "2025-04-04 11:22:58,207 INFO Starting job - MP pre-relax 1 mp-541404 (00abc3cf-76aa-47cb-bf50-64fe4562fb3f)\n",
      "2025-04-04 11:23:00,400 INFO Finished job - MP pre-relax 1 mp-541404 (00abc3cf-76aa-47cb-bf50-64fe4562fb3f)\n",
      "2025-04-04 11:23:00,401 WARNING Response.stored_data is not supported with local manager.\n",
      "2025-04-04 11:23:00,402 INFO Starting job - MP meta-GGA relax 2 mp-541404 (936d79f8-e6f6-4011-a498-c4ca305c2024)\n"
     ]
    },
    {
     "name": "stderr",
     "output_type": "stream",
     "text": [
      "/Users/aaronkaplan/Library/CloudStorage/Dropbox/mp_soft_engr/software/atomate2/src/atomate2/common/files.py:268: UserWarning: /private/var/folders/mv/ltq1lcxn15d0wngg9vlgd1jw0000gn/T/tmpzod5hxrv/job_2025-04-04-18-23-00-401775-60635/POTCAR.spec is not gzipped, skipping...\n",
      "  file_client.gunzip(directory / file, host=host, force=force)\n"
     ]
    },
    {
     "name": "stdout",
     "output_type": "stream",
     "text": [
      "2025-04-04 11:23:04,524 INFO Finished job - MP meta-GGA relax 2 mp-541404 (936d79f8-e6f6-4011-a498-c4ca305c2024)\n",
      "2025-04-04 11:23:04,525 WARNING Response.stored_data is not supported with local manager.\n",
      "2025-04-04 11:23:04,525 INFO Starting job - MP meta-GGA static mp-541404 (08b37541-9119-4b2a-9bd5-ce385bad2ce2)\n"
     ]
    },
    {
     "name": "stderr",
     "output_type": "stream",
     "text": [
      "/Users/aaronkaplan/Library/CloudStorage/Dropbox/mp_soft_engr/software/atomate2/src/atomate2/common/files.py:268: UserWarning: /private/var/folders/mv/ltq1lcxn15d0wngg9vlgd1jw0000gn/T/tmpzod5hxrv/job_2025-04-04-18-23-04-525432-40746/POTCAR.spec is not gzipped, skipping...\n",
      "  file_client.gunzip(directory / file, host=host, force=force)\n"
     ]
    },
    {
     "name": "stdout",
     "output_type": "stream",
     "text": [
      "2025-04-04 11:23:07,627 INFO Finished job - MP meta-GGA static mp-541404 (08b37541-9119-4b2a-9bd5-ce385bad2ce2)\n",
      "2025-04-04 11:23:07,627 WARNING Response.stored_data is not supported with local manager.\n",
      "2025-04-04 11:23:07,627 INFO Finished executing jobs locally\n"
     ]
    }
   ],
   "source": [
    "test_data_dir = TEST_DIR / \"vasp\" / \"mp_phase_diagram_tutorial\"\n",
    "\n",
    "ref_paths = {\n",
    "    k : test_data_dir / v for k, v in {\n",
    "        \"MP GGA static mp-12957\": \"MP_GGA_static_mp-12957.json.lzma\",\n",
    "        \"MP GGA relax 2 mp-18937\": \"MP_GGA_relax_2_mp-18937.json.lzma\",\n",
    "        \"MP GGA relax 1 mp-18937\": \"MP_GGA_relax_1_mp-18937.json.lzma\",\n",
    "        \"MP pre-relax 1 mp-146\": \"MP_pre-relax_1_mp-146.json.lzma\",\n",
    "        \"MP meta-GGA relax 2 mp-146\": \"MP_meta-GGA_relax_2_mp-146.json.lzma\",\n",
    "        \"MP pre-relax 1 mp-541404\": \"MP_pre-relax_1_mp-541404.json.lzma\",\n",
    "        \"MP meta-GGA static mp-146\": \"MP_meta-GGA_static_mp-146.json.lzma\",\n",
    "        \"MP GGA static mp-146\": \"MP_GGA_static_mp-146.json.lzma\",\n",
    "        \"MP meta-GGA static mp-12957\": \"MP_meta-GGA_static_mp-12957.json.lzma\",\n",
    "        \"MP meta-GGA static mp-541404\": \"MP_meta-GGA_static_mp-541404.json.lzma\",\n",
    "        \"MP meta-GGA relax 2 mp-541404\": \"MP_meta-GGA_relax_2_mp-541404.json.lzma\",\n",
    "        \"MP GGA relax 2 mp-146\": \"MP_GGA_relax_2_mp-146.json.lzma\",\n",
    "        \"MP meta-GGA relax 2 mp-12957\": \"MP_meta-GGA_relax_2_mp-12957.json.lzma\",\n",
    "        \"MP pre-relax 1 mp-12957\": \"MP_pre-relax_1_mp-12957.json.lzma\",\n",
    "        \"MP GGA relax 1 mp-12957\": \"MP_GGA_relax_1_mp-12957.json.lzma\",\n",
    "        \"MP GGA static mp-541404\": \"MP_GGA_static_mp-541404.json.lzma\",\n",
    "        \"MP GGA relax 1 mp-146\": \"MP_GGA_relax_1_mp-146.json.lzma\",\n",
    "        \"MP GGA static mp-18937\": \"MP_GGA_static_mp-18937.json.lzma\",\n",
    "        \"MP GGA relax 2 mp-12957\": \"MP_GGA_relax_2_mp-12957.json.lzma\",\n",
    "        \"MP pre-relax 1 mp-18937\": \"MP_pre-relax_1_mp-18937.json.lzma\",\n",
    "        \"MP meta-GGA relax 2 mp-18937\": \"MP_meta-GGA_relax_2_mp-18937.json.lzma\",\n",
    "        \"MP GGA relax 1 mp-541404\": \"MP_GGA_relax_1_mp-541404.json.lzma\",\n",
    "        \"MP meta-GGA static mp-18937\": \"MP_meta-GGA_static_mp-18937.json.lzma\",\n",
    "        \"MP GGA relax 2 mp-541404\": \"MP_GGA_relax_2_mp-541404.json.lzma\"\n",
    "    }.items()\n",
    "}\n",
    "\n",
    "job_store = JobStore(MemoryStore(),additional_stores = {\"data\": MemoryStore()})\n",
    "\n",
    "with mock_vasp(ref_paths) as vasp:\n",
    "    responses = run_locally(\n",
    "        all_jobs,\n",
    "        store=job_store,\n",
    "        create_folders=True,\n",
    "        ensure_success = True,\n",
    "    )"
   ]
  },
  {
   "cell_type": "markdown",
   "metadata": {},
   "source": [
    "If you ran this locally, you can collect the output of the jobs from the local directory structure. We use the formula of the original structures and `calc_type` (name of the functional used plus the type of job performed, like a static or a relaxation) to distinguish jobs. We will use `tasks` to plot phase diagrams."
   ]
  },
  {
   "cell_type": "code",
   "execution_count": null,
   "metadata": {
    "tags": [
     "skip-execution"
    ]
   },
   "outputs": [],
   "source": [
    "from pathlib import Path\n",
    "\n",
    "from emmet.core.tasks import TaskDoc\n",
    "\n",
    "formula_to_mpid = {s.formula: mpid for mpid, s in structures.items()}\n",
    "task_list = [TaskDoc.from_directory(p) for p in Path(\".\").glob(\"job_*\") if p.is_dir()]\n",
    "tasks = {mpid: {} for mpid in structures}\n",
    "for task in task_list:\n",
    "    mpid = formula_to_mpid.get(task.structure.formula)\n",
    "    ct = task.calc_type.value\n",
    "    if ct in tasks[mpid]:\n",
    "        nmatch = len([k for k in tasks[mpid] if ct in k])\n",
    "        ct += f\" {nmatch + 1}\"\n",
    "    tasks[mpid][ct] = task\n",
    "\n",
    "dumpfn(tasks, \"V-O_MP_task_docs.json.gz\")"
   ]
  },
  {
   "cell_type": "markdown",
   "metadata": {},
   "source": [
    "Alternatively, you could use the following code to obtain the output using the job names directly. It's a good exercise to see how you can use `all_output` in the following phase diagram plots."
   ]
  },
  {
   "cell_type": "code",
   "execution_count": null,
   "metadata": {
    "tags": [
     "skip-execution"
    ]
   },
   "outputs": [],
   "source": [
    "from atomate2.utils.testing import get_job_uuid_name_map\n",
    "\n",
    "job_uuid_to_name = get_job_uuid_name_map(all_jobs)\n",
    "\n",
    "all_output = {name: responses[uuid][1].output for uuid, name in job_uuid_to_name.items()}"
   ]
  },
  {
   "cell_type": "markdown",
   "metadata": {},
   "source": [
    "Last, and this is the way you should go in high-throughput, we can query the job store for output. The contents of the job store are \"deserialized,\" so we reconstruct them with their document model, `emmet.core.tasks.TaskDoc`.\n",
    "\n",
    "Note that we only need the static calculations (with `task_type` of `GGA Static`, `GGA+U Static`, and `r2SCAN Static`) to build the phase diagram, as these most accurately capture the total energy. That's because of various electronic structure calculation reasons (e.g., as the lattice changes during a geomtry optimization, the <i>k</i> point grid may no longer have high-enough density, or it may represent the wrong lattice symmetry)."
   ]
  },
  {
   "cell_type": "code",
   "execution_count": 5,
   "metadata": {},
   "outputs": [],
   "source": [
    "from emmet.core.tasks import TaskDoc\n",
    "\n",
    "all_output = {}\n",
    "for mp_id in structures:\n",
    "    all_output[mp_id] = {}\n",
    "    for entry in job_store.query({\"metadata.mp_id\": mp_id, \"name\": {\"$regex\" : \"static\"}}):\n",
    "        all_output[mp_id][entry[\"output\"][\"calc_type\"]] = TaskDoc(**entry[\"output\"])"
   ]
  },
  {
   "cell_type": "markdown",
   "metadata": {},
   "source": [
    "In the dictionary of `tasks` that we just built, the static calculations (`GGA Static`, `GGA+U Static`, and `r2SCAN Static`) should most accurately capture the total energy. That's because of various electronic structure calculation reasons (e.g., as the lattice changes during a geomtry optimization, the <i>k</i> point grid may no longer have high-enough density, or it may represent the wrong lattice symmetry).\n",
    "\n",
    "We will use these static calculations to build a compositional phase diagram. First, we have to apply mixing and correction scheme corrections to these tasks. These are applied by `pymatgen.entries.mixing_scheme.MaterialsProjectDFTMixingScheme` - we only have to pass a small representation of each calculation called a `ComputedStructureEntry`, to the mixer, and it applies all empirical corrections / functional mixing adjustments.\n",
    "\n",
    "<b>Note:</b> `MaterialsProjectDFTMixingScheme` will give sensible output only if you have complete phase space information (elemental unary compounds and relevant intermediates). We will cover the case of applying corrections without adjusting the PBE and r<sup>2</sup>SCAN hulls in a moment.\n",
    "\n",
    "To best demonstrate how the mixing corrections work, we will purposefully omit one of the r<sup>2</sup>SCAN calculations."
   ]
  },
  {
   "cell_type": "code",
   "execution_count": 6,
   "metadata": {},
   "outputs": [
    {
     "name": "stdout",
     "output_type": "stream",
     "text": [
      "GGA mp-12957 []\n",
      "GGA+U mp-541404 [CompositionEnergyAdjustment(name='MP2020 anion correction (oxide)', value=-5.5, uncertainty=0.016, description='Composition-based energy adjustment', generated_by='MaterialsProject2020Compatibility'), CompositionEnergyAdjustment(name='MP2020 GGA/GGA+U mixing correction (V)', value=-6.8, uncertainty=0.0256, description='Composition-based energy adjustment', generated_by='MaterialsProject2020Compatibility')]\n",
      "GGA mp-146 []\n",
      "GGA+U mp-18937 [CompositionEnergyAdjustment(name='MP2020 anion correction (oxide)', value=-4.12, uncertainty=0.012, description='Composition-based energy adjustment', generated_by='MaterialsProject2020Compatibility'), CompositionEnergyAdjustment(name='MP2020 GGA/GGA+U mixing correction (V)', value=-6.8, uncertainty=0.0256, description='Composition-based energy adjustment', generated_by='MaterialsProject2020Compatibility')]\n"
     ]
    },
    {
     "name": "stderr",
     "output_type": "stream",
     "text": [
      "/Users/aaronkaplan/miniconda3/envs/matpes_mlff/lib/python3.11/site-packages/pymatgen/entries/mixing_scheme.py:183: UserWarning: r2SCAN entries do not form a complete PhaseDiagram.\n",
      "  mixing_state_data = self.get_mixing_state_data(entries_type_1 + entries_type_2)\n"
     ]
    }
   ],
   "source": [
    "from pymatgen.entries.mixing_scheme import MaterialsProjectDFTMixingScheme\n",
    "\n",
    "static_entries = []\n",
    "for mpid, calcs in all_output.items():\n",
    "    for calc_type, task_doc in calcs.items():\n",
    "        if mpid == \"mp-18937\" and calc_type.lower() == \"r2scan static\":\n",
    "            continue\n",
    "\n",
    "        if \"static\" in calc_type.lower():\n",
    "            cse = task_doc.structure_entry\n",
    "            cse.entry_id = f\"{cse.parameters['run_type']} {mpid}\"\n",
    "            cse.data[\"material_id\"] = mpid\n",
    "            static_entries.append(cse)\n",
    "\n",
    "mixer = MaterialsProjectDFTMixingScheme()\n",
    "corrected_entries = mixer.process_entries(static_entries)\n",
    "\n",
    "for ce in corrected_entries:\n",
    "    print(ce.entry_id, ce.energy_adjustments)  # noqa: T201"
   ]
  },
  {
   "cell_type": "markdown",
   "metadata": {},
   "source": [
    "Now let's actually plot the phase diagram! Note that the one calculation where we purposefully skipped the r<sup>2</sup>SCAN calculation, `mp-18937`, is represented by a PBE+<i>U</i> calculation. You can see this by hovering your cursor over that particular data point.\n",
    "\n",
    "Try to compare your phase diagram to the one that [MP calculates](https://next-gen.materialsproject.org/phasediagram).\n",
    "\n",
    "What happens if you do not skip this calculation? How does the convex hull change?"
   ]
  },
  {
   "cell_type": "code",
   "execution_count": 7,
   "metadata": {},
   "outputs": [
    {
     "data": {
      "application/vnd.plotly.v1+json": {
       "config": {
        "plotlyServerURL": "https://plot.ly"
       },
       "data": [
        {
         "hoverinfo": "none",
         "line": {
          "color": "black",
          "width": 4
         },
         "mode": "lines",
         "showlegend": false,
         "type": "scatter",
         "x": [
          0.6666666666666666,
          0.6,
          null,
          0.6666666666666666,
          1,
          null,
          0.6,
          0,
          null
         ],
         "y": [
          -2.4601653941666655,
          -2.52434807825,
          null,
          -2.4601653941666655,
          0,
          null,
          -2.52434807825,
          0,
          null
         ]
        },
        {
         "hoverinfo": "skip",
         "mode": "text",
         "name": "Labels (stable)",
         "opacity": 1,
         "showlegend": true,
         "text": [
          "VO<sub>2</sub>",
          "V<sub>2</sub>O<sub>3</sub>"
         ],
         "textposition": [
          "bottom right",
          "bottom right"
         ],
         "type": "scatter",
         "visible": true,
         "x": [
          0.6746666666666666,
          0.608
         ],
         "y": [
          -2.4731653941666654,
          -2.53734807825
         ]
        },
        {
         "error_y": {
          "array": [
           0,
           0,
           0,
           0
          ],
          "color": "gray",
          "thickness": 2.5,
          "type": "data",
          "width": 5
         },
         "hoverinfo": "text",
         "hoverlabel": {
          "font": {
           "size": 14
          }
         },
         "hovertext": [
          "VO<sub>2</sub> (GGA+U mp-541404) <br>  Formation energy: -2.46 eV/atom <br>  (Stable)",
          "V<sub>2</sub>O<sub>3</sub> (GGA+U mp-18937) <br>  Formation energy: -2.524 eV/atom <br>  (Stable)",
          "O<sub>2</sub> (GGA mp-12957) <br>  Formation energy: 0.0 eV/atom <br>  (Stable)",
          "V (GGA mp-146) <br>  Formation energy: 0.0 eV/atom <br>  (Stable)"
         ],
         "marker": {
          "color": "darkgreen",
          "line": {
           "color": "black",
           "width": 2
          },
          "size": 16
         },
         "mode": "markers",
         "name": "Stable",
         "opacity": 0.99,
         "showlegend": true,
         "type": "scatter",
         "x": [
          0.6666666666666666,
          0.6,
          1,
          0
         ],
         "y": [
          -2.4601653941666655,
          -2.52434807825,
          0,
          0
         ]
        },
        {
         "hoverinfo": "text",
         "hoverlabel": {
          "font": {
           "size": 14
          }
         },
         "hovertext": [],
         "marker": {
          "color": [],
          "colorscale": [
           [
            0,
            "#fff5e3"
           ],
           [
            0.5,
            "#f24324"
           ],
           [
            1,
            "#c40000"
           ]
          ],
          "line": {
           "color": "black",
           "width": 1
          },
          "opacity": 0.8,
          "size": 7,
          "symbol": "diamond"
         },
         "mode": "markers",
         "name": "Above Hull",
         "showlegend": true,
         "type": "scatter",
         "x": [],
         "y": []
        }
       ],
       "layout": {
        "annotations": [
         {
          "align": "center",
          "font": {
           "color": "#000000",
           "size": 24
          },
          "opacity": 1,
          "showarrow": false,
          "text": "O",
          "x": 1.03,
          "xref": "x",
          "y": -0.03,
          "yref": "y"
         },
         {
          "align": "center",
          "font": {
           "color": "#000000",
           "size": 24
          },
          "opacity": 1,
          "showarrow": false,
          "text": "V",
          "x": -0.03,
          "xref": "x",
          "y": -0.03,
          "yref": "y"
         }
        ],
        "autosize": true,
        "coloraxis": {
         "colorbar": {
          "x": 1,
          "y": 0.05,
          "yanchor": "top"
         }
        },
        "height": 700,
        "hovermode": "closest",
        "legend": {
         "orientation": "h",
         "tracegroupgap": 7,
         "traceorder": "reversed",
         "x": 0,
         "xanchor": "left",
         "y": 1.05
        },
        "margin": {
         "b": 10,
         "l": 10,
         "pad": 0,
         "r": 10,
         "t": 0
        },
        "paper_bgcolor": "white",
        "plot_bgcolor": "white",
        "showlegend": true,
        "template": {
         "data": {
          "bar": [
           {
            "error_x": {
             "color": "#2a3f5f"
            },
            "error_y": {
             "color": "#2a3f5f"
            },
            "marker": {
             "line": {
              "color": "#E5ECF6",
              "width": 0.5
             },
             "pattern": {
              "fillmode": "overlay",
              "size": 10,
              "solidity": 0.2
             }
            },
            "type": "bar"
           }
          ],
          "barpolar": [
           {
            "marker": {
             "line": {
              "color": "#E5ECF6",
              "width": 0.5
             },
             "pattern": {
              "fillmode": "overlay",
              "size": 10,
              "solidity": 0.2
             }
            },
            "type": "barpolar"
           }
          ],
          "carpet": [
           {
            "aaxis": {
             "endlinecolor": "#2a3f5f",
             "gridcolor": "white",
             "linecolor": "white",
             "minorgridcolor": "white",
             "startlinecolor": "#2a3f5f"
            },
            "baxis": {
             "endlinecolor": "#2a3f5f",
             "gridcolor": "white",
             "linecolor": "white",
             "minorgridcolor": "white",
             "startlinecolor": "#2a3f5f"
            },
            "type": "carpet"
           }
          ],
          "choropleth": [
           {
            "colorbar": {
             "outlinewidth": 0,
             "ticks": ""
            },
            "type": "choropleth"
           }
          ],
          "contour": [
           {
            "colorbar": {
             "outlinewidth": 0,
             "ticks": ""
            },
            "colorscale": [
             [
              0,
              "#0d0887"
             ],
             [
              0.1111111111111111,
              "#46039f"
             ],
             [
              0.2222222222222222,
              "#7201a8"
             ],
             [
              0.3333333333333333,
              "#9c179e"
             ],
             [
              0.4444444444444444,
              "#bd3786"
             ],
             [
              0.5555555555555556,
              "#d8576b"
             ],
             [
              0.6666666666666666,
              "#ed7953"
             ],
             [
              0.7777777777777778,
              "#fb9f3a"
             ],
             [
              0.8888888888888888,
              "#fdca26"
             ],
             [
              1,
              "#f0f921"
             ]
            ],
            "type": "contour"
           }
          ],
          "contourcarpet": [
           {
            "colorbar": {
             "outlinewidth": 0,
             "ticks": ""
            },
            "type": "contourcarpet"
           }
          ],
          "heatmap": [
           {
            "colorbar": {
             "outlinewidth": 0,
             "ticks": ""
            },
            "colorscale": [
             [
              0,
              "#0d0887"
             ],
             [
              0.1111111111111111,
              "#46039f"
             ],
             [
              0.2222222222222222,
              "#7201a8"
             ],
             [
              0.3333333333333333,
              "#9c179e"
             ],
             [
              0.4444444444444444,
              "#bd3786"
             ],
             [
              0.5555555555555556,
              "#d8576b"
             ],
             [
              0.6666666666666666,
              "#ed7953"
             ],
             [
              0.7777777777777778,
              "#fb9f3a"
             ],
             [
              0.8888888888888888,
              "#fdca26"
             ],
             [
              1,
              "#f0f921"
             ]
            ],
            "type": "heatmap"
           }
          ],
          "heatmapgl": [
           {
            "colorbar": {
             "outlinewidth": 0,
             "ticks": ""
            },
            "colorscale": [
             [
              0,
              "#0d0887"
             ],
             [
              0.1111111111111111,
              "#46039f"
             ],
             [
              0.2222222222222222,
              "#7201a8"
             ],
             [
              0.3333333333333333,
              "#9c179e"
             ],
             [
              0.4444444444444444,
              "#bd3786"
             ],
             [
              0.5555555555555556,
              "#d8576b"
             ],
             [
              0.6666666666666666,
              "#ed7953"
             ],
             [
              0.7777777777777778,
              "#fb9f3a"
             ],
             [
              0.8888888888888888,
              "#fdca26"
             ],
             [
              1,
              "#f0f921"
             ]
            ],
            "type": "heatmapgl"
           }
          ],
          "histogram": [
           {
            "marker": {
             "pattern": {
              "fillmode": "overlay",
              "size": 10,
              "solidity": 0.2
             }
            },
            "type": "histogram"
           }
          ],
          "histogram2d": [
           {
            "colorbar": {
             "outlinewidth": 0,
             "ticks": ""
            },
            "colorscale": [
             [
              0,
              "#0d0887"
             ],
             [
              0.1111111111111111,
              "#46039f"
             ],
             [
              0.2222222222222222,
              "#7201a8"
             ],
             [
              0.3333333333333333,
              "#9c179e"
             ],
             [
              0.4444444444444444,
              "#bd3786"
             ],
             [
              0.5555555555555556,
              "#d8576b"
             ],
             [
              0.6666666666666666,
              "#ed7953"
             ],
             [
              0.7777777777777778,
              "#fb9f3a"
             ],
             [
              0.8888888888888888,
              "#fdca26"
             ],
             [
              1,
              "#f0f921"
             ]
            ],
            "type": "histogram2d"
           }
          ],
          "histogram2dcontour": [
           {
            "colorbar": {
             "outlinewidth": 0,
             "ticks": ""
            },
            "colorscale": [
             [
              0,
              "#0d0887"
             ],
             [
              0.1111111111111111,
              "#46039f"
             ],
             [
              0.2222222222222222,
              "#7201a8"
             ],
             [
              0.3333333333333333,
              "#9c179e"
             ],
             [
              0.4444444444444444,
              "#bd3786"
             ],
             [
              0.5555555555555556,
              "#d8576b"
             ],
             [
              0.6666666666666666,
              "#ed7953"
             ],
             [
              0.7777777777777778,
              "#fb9f3a"
             ],
             [
              0.8888888888888888,
              "#fdca26"
             ],
             [
              1,
              "#f0f921"
             ]
            ],
            "type": "histogram2dcontour"
           }
          ],
          "mesh3d": [
           {
            "colorbar": {
             "outlinewidth": 0,
             "ticks": ""
            },
            "type": "mesh3d"
           }
          ],
          "parcoords": [
           {
            "line": {
             "colorbar": {
              "outlinewidth": 0,
              "ticks": ""
             }
            },
            "type": "parcoords"
           }
          ],
          "pie": [
           {
            "automargin": true,
            "type": "pie"
           }
          ],
          "scatter": [
           {
            "fillpattern": {
             "fillmode": "overlay",
             "size": 10,
             "solidity": 0.2
            },
            "type": "scatter"
           }
          ],
          "scatter3d": [
           {
            "line": {
             "colorbar": {
              "outlinewidth": 0,
              "ticks": ""
             }
            },
            "marker": {
             "colorbar": {
              "outlinewidth": 0,
              "ticks": ""
             }
            },
            "type": "scatter3d"
           }
          ],
          "scattercarpet": [
           {
            "marker": {
             "colorbar": {
              "outlinewidth": 0,
              "ticks": ""
             }
            },
            "type": "scattercarpet"
           }
          ],
          "scattergeo": [
           {
            "marker": {
             "colorbar": {
              "outlinewidth": 0,
              "ticks": ""
             }
            },
            "type": "scattergeo"
           }
          ],
          "scattergl": [
           {
            "marker": {
             "colorbar": {
              "outlinewidth": 0,
              "ticks": ""
             }
            },
            "type": "scattergl"
           }
          ],
          "scattermapbox": [
           {
            "marker": {
             "colorbar": {
              "outlinewidth": 0,
              "ticks": ""
             }
            },
            "type": "scattermapbox"
           }
          ],
          "scatterpolar": [
           {
            "marker": {
             "colorbar": {
              "outlinewidth": 0,
              "ticks": ""
             }
            },
            "type": "scatterpolar"
           }
          ],
          "scatterpolargl": [
           {
            "marker": {
             "colorbar": {
              "outlinewidth": 0,
              "ticks": ""
             }
            },
            "type": "scatterpolargl"
           }
          ],
          "scatterternary": [
           {
            "marker": {
             "colorbar": {
              "outlinewidth": 0,
              "ticks": ""
             }
            },
            "type": "scatterternary"
           }
          ],
          "surface": [
           {
            "colorbar": {
             "outlinewidth": 0,
             "ticks": ""
            },
            "colorscale": [
             [
              0,
              "#0d0887"
             ],
             [
              0.1111111111111111,
              "#46039f"
             ],
             [
              0.2222222222222222,
              "#7201a8"
             ],
             [
              0.3333333333333333,
              "#9c179e"
             ],
             [
              0.4444444444444444,
              "#bd3786"
             ],
             [
              0.5555555555555556,
              "#d8576b"
             ],
             [
              0.6666666666666666,
              "#ed7953"
             ],
             [
              0.7777777777777778,
              "#fb9f3a"
             ],
             [
              0.8888888888888888,
              "#fdca26"
             ],
             [
              1,
              "#f0f921"
             ]
            ],
            "type": "surface"
           }
          ],
          "table": [
           {
            "cells": {
             "fill": {
              "color": "#EBF0F8"
             },
             "line": {
              "color": "white"
             }
            },
            "header": {
             "fill": {
              "color": "#C8D4E3"
             },
             "line": {
              "color": "white"
             }
            },
            "type": "table"
           }
          ]
         },
         "layout": {
          "annotationdefaults": {
           "arrowcolor": "#2a3f5f",
           "arrowhead": 0,
           "arrowwidth": 1
          },
          "autotypenumbers": "strict",
          "coloraxis": {
           "colorbar": {
            "outlinewidth": 0,
            "ticks": ""
           }
          },
          "colorscale": {
           "diverging": [
            [
             0,
             "#8e0152"
            ],
            [
             0.1,
             "#c51b7d"
            ],
            [
             0.2,
             "#de77ae"
            ],
            [
             0.3,
             "#f1b6da"
            ],
            [
             0.4,
             "#fde0ef"
            ],
            [
             0.5,
             "#f7f7f7"
            ],
            [
             0.6,
             "#e6f5d0"
            ],
            [
             0.7,
             "#b8e186"
            ],
            [
             0.8,
             "#7fbc41"
            ],
            [
             0.9,
             "#4d9221"
            ],
            [
             1,
             "#276419"
            ]
           ],
           "sequential": [
            [
             0,
             "#0d0887"
            ],
            [
             0.1111111111111111,
             "#46039f"
            ],
            [
             0.2222222222222222,
             "#7201a8"
            ],
            [
             0.3333333333333333,
             "#9c179e"
            ],
            [
             0.4444444444444444,
             "#bd3786"
            ],
            [
             0.5555555555555556,
             "#d8576b"
            ],
            [
             0.6666666666666666,
             "#ed7953"
            ],
            [
             0.7777777777777778,
             "#fb9f3a"
            ],
            [
             0.8888888888888888,
             "#fdca26"
            ],
            [
             1,
             "#f0f921"
            ]
           ],
           "sequentialminus": [
            [
             0,
             "#0d0887"
            ],
            [
             0.1111111111111111,
             "#46039f"
            ],
            [
             0.2222222222222222,
             "#7201a8"
            ],
            [
             0.3333333333333333,
             "#9c179e"
            ],
            [
             0.4444444444444444,
             "#bd3786"
            ],
            [
             0.5555555555555556,
             "#d8576b"
            ],
            [
             0.6666666666666666,
             "#ed7953"
            ],
            [
             0.7777777777777778,
             "#fb9f3a"
            ],
            [
             0.8888888888888888,
             "#fdca26"
            ],
            [
             1,
             "#f0f921"
            ]
           ]
          },
          "colorway": [
           "#636efa",
           "#EF553B",
           "#00cc96",
           "#ab63fa",
           "#FFA15A",
           "#19d3f3",
           "#FF6692",
           "#B6E880",
           "#FF97FF",
           "#FECB52"
          ],
          "font": {
           "color": "#2a3f5f"
          },
          "geo": {
           "bgcolor": "white",
           "lakecolor": "white",
           "landcolor": "#E5ECF6",
           "showlakes": true,
           "showland": true,
           "subunitcolor": "white"
          },
          "hoverlabel": {
           "align": "left"
          },
          "hovermode": "closest",
          "mapbox": {
           "style": "light"
          },
          "paper_bgcolor": "white",
          "plot_bgcolor": "#E5ECF6",
          "polar": {
           "angularaxis": {
            "gridcolor": "white",
            "linecolor": "white",
            "ticks": ""
           },
           "bgcolor": "#E5ECF6",
           "radialaxis": {
            "gridcolor": "white",
            "linecolor": "white",
            "ticks": ""
           }
          },
          "scene": {
           "xaxis": {
            "backgroundcolor": "#E5ECF6",
            "gridcolor": "white",
            "gridwidth": 2,
            "linecolor": "white",
            "showbackground": true,
            "ticks": "",
            "zerolinecolor": "white"
           },
           "yaxis": {
            "backgroundcolor": "#E5ECF6",
            "gridcolor": "white",
            "gridwidth": 2,
            "linecolor": "white",
            "showbackground": true,
            "ticks": "",
            "zerolinecolor": "white"
           },
           "zaxis": {
            "backgroundcolor": "#E5ECF6",
            "gridcolor": "white",
            "gridwidth": 2,
            "linecolor": "white",
            "showbackground": true,
            "ticks": "",
            "zerolinecolor": "white"
           }
          },
          "shapedefaults": {
           "line": {
            "color": "#2a3f5f"
           }
          },
          "ternary": {
           "aaxis": {
            "gridcolor": "white",
            "linecolor": "white",
            "ticks": ""
           },
           "baxis": {
            "gridcolor": "white",
            "linecolor": "white",
            "ticks": ""
           },
           "bgcolor": "#E5ECF6",
           "caxis": {
            "gridcolor": "white",
            "linecolor": "white",
            "ticks": ""
           }
          },
          "title": {
           "x": 0.05
          },
          "xaxis": {
           "automargin": true,
           "gridcolor": "white",
           "linecolor": "white",
           "ticks": "",
           "title": {
            "standoff": 15
           },
           "zerolinecolor": "white",
           "zerolinewidth": 2
          },
          "yaxis": {
           "automargin": true,
           "gridcolor": "white",
           "linecolor": "white",
           "ticks": "",
           "title": {
            "standoff": 15
           },
           "zerolinecolor": "white",
           "zerolinewidth": 2
          }
         }
        },
        "width": 1000,
        "xaxis": {
         "anchor": "y",
         "gridcolor": "rgba(0,0,0,0.1)",
         "mirror": "ticks",
         "nticks": 8,
         "showgrid": true,
         "showline": true,
         "side": "bottom",
         "tickfont": {
          "size": 16
         },
         "ticks": "inside",
         "title": {
          "font": {
           "color": "#000000",
           "size": 20
          },
          "text": "Composition (Fraction O)"
         },
         "type": "linear",
         "zeroline": false
        },
        "yaxis": {
         "anchor": "x",
         "gridcolor": "rgba(0,0,0,0.1)",
         "mirror": "ticks",
         "showgrid": true,
         "showline": true,
         "side": "left",
         "tickfont": {
          "size": 16
         },
         "ticks": "inside",
         "title": {
          "font": {
           "color": "#000000",
           "size": 20
          },
          "text": "Formation energy (eV/atom)"
         },
         "type": "linear"
        }
       }
      }
     },
     "metadata": {},
     "output_type": "display_data"
    }
   ],
   "source": [
    "from pymatgen.analysis.phase_diagram import PhaseDiagram\n",
    "\n",
    "pd = PhaseDiagram(corrected_entries)\n",
    "fig = pd.get_plot()\n",
    "fig.update_layout(width=1000, height=700, plot_bgcolor=\"white\", paper_bgcolor=\"white\")"
   ]
  },
  {
   "cell_type": "markdown",
   "metadata": {},
   "source": [
    "To apply just corrections/preliminary mixing to the PBE and PBE+<i>U</i> entries, you would use `pymatgen.entries.compatibility.MaterialsProject2020Compatibility`. This is useful if you want to compare to older MP data in the [legacy site](https://legacy.materialsproject.org/). The correction scheme will raise a `CompatibilityError` if you attempt to apply it to non-PBE/+<i>U</i> entries."
   ]
  },
  {
   "cell_type": "code",
   "execution_count": null,
   "metadata": {},
   "outputs": [],
   "source": [
    "from pymatgen.entries.compatibility import MaterialsProject2020Compatibility\n",
    "from pymatgen.entries.computed_entries import ComputedStructureEntry\n",
    "\n",
    "compat_scheme = MaterialsProject2020Compatibility()\n",
    "gga_gga_u_corrected_entries = []\n",
    "for mpid, calcs in tasks.items():\n",
    "    for calc_type, task_doc in calcs.items():\n",
    "        if all(kwd in calc_type.lower() for kwd in (\"gga\", \"static\")):\n",
    "            cse_dict = task_doc.structure_entry.as_dict()\n",
    "            cse_dict[\"energy_adjustments\"] = compat_scheme.get_adjustments(\n",
    "                task_doc.structure_entry\n",
    "            )\n",
    "            corrected_cse = ComputedStructureEntry.from_dict(cse_dict)\n",
    "            print(  # noqa: T201\n",
    "                mpid, corrected_cse.formula, calc_type, corrected_cse.energy_adjustments\n",
    "            )"
   ]
  },
  {
   "cell_type": "markdown",
   "metadata": {},
   "source": [
    "### Note on revised MP input sets / workflows\n",
    "\n",
    "The Materials Project recently undertook a significant [benchmarking effort](https://github.com/materialsproject/foundation/pull/26) to verify the accuracy of its DFT calculations. That ultimately led to the construction of new r<sup>2</sup>SCAN input sets, which are currently being used to recompute all entries in MP.\n",
    "\n",
    "While these data aren't currently publicly available, if you want to use these newer input sets / workflows, we list them below:\n",
    "\n",
    "```python\n",
    "from pymatgen.io.vasp.sets import MP24RelaxSet\n",
    "from atomate2.vasp.flows.mp import MP24DoubleRelaxStaticMaker\n",
    "```\n",
    "\n",
    "Then you would use `MP24DoubleRelaxStaticMaker` in place of `MPMetaGGARelaxMaker`."
   ]
  }
 ],
 "metadata": {
  "kernelspec": {
   "display_name": "matpes_mlff",
   "language": "python",
   "name": "python3"
  },
  "language_info": {
   "codemirror_mode": {
    "name": "ipython",
    "version": 3
   },
   "file_extension": ".py",
   "mimetype": "text/x-python",
   "name": "python",
   "nbconvert_exporter": "python",
   "pygments_lexer": "ipython3",
   "version": "3.11.11"
  }
 },
 "nbformat": 4,
 "nbformat_minor": 2
}
