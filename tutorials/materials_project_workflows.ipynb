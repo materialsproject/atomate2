{
 "cells": [
  {
   "cell_type": "markdown",
   "metadata": {},
   "source": [
    "## Running Materials Project Compatible workflows using VASP / DFT\n",
    "\n",
    "As of early 2025, the majority of the calculations in the [Materials Project (MP) database](https://next-gen.materialsproject.org/materials) are performed with [PBE GGA](https://doi.org/10.1103/PhysRevLett.77.3865) and PBE+<i>U</i> density funcitonal theory (DFT) calculations, with about a quarter coming from [r<sup>2</sup>SCAN calculations](https://doi.org/10.1021/acs.jpclett.0c02405) instead.\n",
    "\n",
    "In this example, you will use the Materials Project workflows and corrections/mixing schemes for [PBE and PBE+<i>U</i>](https://doi.org/10.1103/PhysRevB.84.045115), and for [r<sup>2</sup>SCAN](https://doi.org/10.1038/s41524-022-00881-w), to generate a partial compositional phase diagram for the V-O compositional space. The mixing and corrections schemes are used to better align PBE, PBE+<i>U</i>, and r<sup>2</sup>SCAN convex hulls, and to correct known errors in approximate DFT to predict more accurate enthalpies of formation.\n",
    "\n",
    "<b>Note:</b> <i>The Materials Project is currently recomputing the entirety of its database with updated r<sup>2</sup>SCAN workflows. We will focus first on the current set of calculations, and mention these updated workflows at the end of the notebook.</i>\n",
    "\n",
    "Let's start by investigating the input sets used by MP"
   ]
  },
  {
   "cell_type": "code",
   "execution_count": null,
   "metadata": {},
   "outputs": [],
   "source": [
    "from __future__ import annotations\n",
    "\n",
    "from pymatgen.io.vasp.sets import MPRelaxSet, MPScanRelaxSet\n",
    "\n",
    "print(  # noqa: T201\n",
    "    \"PBE GGA / +U INCAR:\\n\"\n",
    "    + \"\\n\".join(f\"  {k}: {v}\" for k, v in MPRelaxSet.CONFIG[\"INCAR\"].items())\n",
    ")\n",
    "print(  # noqa: T201\n",
    "    \"r2SCAN meta-GGA INCAR:\\n\"\n",
    "    + \"\\n\".join(f\"  {k}: {v}\" for k, v in MPScanRelaxSet.CONFIG[\"INCAR\"].items())\n",
    ")"
   ]
  },
  {
   "cell_type": "markdown",
   "metadata": {},
   "source": [
    "While you can set up MP compatible VASP calculations by hand, it's usually best practice to use the pre-defined workflows in `atomate2`.\n",
    "For PBE GGA/+<i>U</i> calculations, the workflow is `atomate2.vasp.flows.mp.MPGGADoubleRelaxStaticMaker`. For r<sup>2</sup>SCAN, the workflow is `atomate2.vasp.flows.mp.MPMetaGGADoubleRelaxStaticMaker`.\n",
    "\n",
    "We start by pulling a few structures from the Materials Project API in the V-O system, importantly including the unaries."
   ]
  },
  {
   "cell_type": "code",
   "execution_count": null,
   "metadata": {
    "tags": [
     "skip-execution"
    ]
   },
   "outputs": [],
   "source": [
    "from mp_api.client import MPRester\n",
    "\n",
    "with MPRester() as mpr:\n",
    "    docs = mpr.materials.summary.search(\n",
    "        material_ids=[\"mp-146\", \"mp-12957\", \"mp-18937\", \"mp-541404\"],\n",
    "        fields=[\"material_id\", \"structure\"],\n",
    "    )\n",
    "structures = {doc.material_id.string: doc.structure.to_primitive() for doc in docs}\n",
    "for mp_id, structure in structures.items():\n",
    "    print(structure.to(fmt=\"poscar\", comment=f\"{mp_id} {structure.formula}\"))  # noqa: T201"
   ]
  },
  {
   "cell_type": "markdown",
   "metadata": {},
   "source": [
    "### If you don't have access to VASP, or just want to run the tutorial example:\n",
    "\n",
    "All test data is provided with this example (including raw VASP input and output), just run the following code block:"
   ]
  },
  {
   "cell_type": "code",
   "execution_count": null,
   "metadata": {},
   "outputs": [],
   "source": [
    "from mock_vasp import TEST_DIR, mock_vasp\n",
    "from monty.serialization import loadfn\n",
    "\n",
    "tasks = loadfn(\n",
    "    TEST_DIR\n",
    "    / \"vasp\"\n",
    "    / \"mp_phase_diagram_tutorial\"\n",
    "    / \"MP-example-V-O-phase-diagram.json.gz\"\n",
    ")\n",
    "\n",
    "structures = {\n",
    "    mp_id: task_block[\"PBEsol Structure Optimization\"].input.structure\n",
    "    for mp_id, task_block in tasks.items()\n",
    "}"
   ]
  },
  {
   "cell_type": "markdown",
   "metadata": {},
   "source": [
    "Now let's actually set up the workflows! For these calculations, we will adjust \"parallelization settings\" to ensure that our calculations run quickly.\n",
    "If you are not familiar with these settings in VASP, it's best to [read the manual section in VASP](https://www.vasp.at/wiki/index.php/Category:Parallelization).\n",
    "\n",
    "If you run VASP on CPU nodes on a cluster/HPC, you want to modify:\n",
    "- [NCORE](https://www.vasp.at/wiki/index.php/NCORE): how many individual cores work on a single orbital\n",
    "- [KPAR](https://www.vasp.at/wiki/index.php/KPAR): how many <i>k</i> points are treated in parallel\n",
    "\n",
    "If you run VASP on GPU nodes on a cluster/HPC, you will modify:\n",
    "- [NSIM](https://www.vasp.at/wiki/index.php/NSIM): parallelization over bands for certain optimizers\n",
    "- KPAR\n",
    "- NCORE = 1\n",
    "\n",
    "To do the latter part, we will use the powerups in `atomate2`. We will also save our results to JSON-format output using `monty`.\n",
    "\n",
    "For parallelization settings, I'm running these on GPU nodes, so I set `NCORE = 1`, `KPAR = 8` (using 8 individual GPUs), and setting `NSIM=8` as a reasonable value that does not increase the memory demands too much.'\n",
    "\n",
    "Note that we also update the names of the jobs and their metadata to make it easier to query output later when we build the phase diagram."
   ]
  },
  {
   "cell_type": "code",
   "execution_count": null,
   "metadata": {},
   "outputs": [],
   "source": [
    "from jobflow import Flow, JobStore, run_locally\n",
    "from maggma.stores import MemoryStore\n",
    "from mock_vasp import TEST_DIR\n",
    "from monty.serialization import dumpfn\n",
    "\n",
    "from atomate2.vasp.flows.mp import (\n",
    "    MPGGADoubleRelaxStaticMaker,\n",
    "    MPMetaGGADoubleRelaxStaticMaker,\n",
    ")\n",
    "from atomate2.vasp.powerups import update_user_incar_settings\n",
    "\n",
    "jobs = []\n",
    "for mp_id, structure in structures.items():\n",
    "    pbe_job = MPGGADoubleRelaxStaticMaker().make(structure)\n",
    "    pbe_job.append_name(f\" {mp_id}\")\n",
    "    pbe_job.update_metadata({\"mp_id\": mp_id})\n",
    "\n",
    "    r2scan_job = MPMetaGGADoubleRelaxStaticMaker().make(structure)\n",
    "    r2scan_job.append_name(f\" {mp_id}\")\n",
    "    pbe_job.update_metadata({\"mp_id\": mp_id})\n",
    "\n",
    "    jobs.extend([pbe_job, r2scan_job])\n",
    "\n",
    "all_jobs = Flow(jobs)\n",
    "all_jobs = update_user_incar_settings(all_jobs, {\"NCORE\": 1, \"KPAR\": 8, \"NSIM\": 8})"
   ]
  },
  {
   "cell_type": "code",
   "execution_count": null,
   "metadata": {},
   "outputs": [],
   "source": [
    "test_data_dir = TEST_DIR / \"vasp\" / \"mp_phase_diagram_tutorial\"\n",
    "\n",
    "ref_paths = {\n",
    "    k: test_data_dir / v\n",
    "    for k, v in {\n",
    "        \"MP GGA static mp-12957\": \"MP_GGA_static_mp-12957.json.lzma\",\n",
    "        \"MP GGA relax 2 mp-18937\": \"MP_GGA_relax_2_mp-18937.json.lzma\",\n",
    "        \"MP GGA relax 1 mp-18937\": \"MP_GGA_relax_1_mp-18937.json.lzma\",\n",
    "        \"MP pre-relax 1 mp-146\": \"MP_pre-relax_1_mp-146.json.lzma\",\n",
    "        \"MP meta-GGA relax 2 mp-146\": \"MP_meta-GGA_relax_2_mp-146.json.lzma\",\n",
    "        \"MP pre-relax 1 mp-541404\": \"MP_pre-relax_1_mp-541404.json.lzma\",\n",
    "        \"MP meta-GGA static mp-146\": \"MP_meta-GGA_static_mp-146.json.lzma\",\n",
    "        \"MP GGA static mp-146\": \"MP_GGA_static_mp-146.json.lzma\",\n",
    "        \"MP meta-GGA static mp-12957\": \"MP_meta-GGA_static_mp-12957.json.lzma\",\n",
    "        \"MP meta-GGA static mp-541404\": \"MP_meta-GGA_static_mp-541404.json.lzma\",\n",
    "        \"MP meta-GGA relax 2 mp-541404\": \"MP_meta-GGA_relax_2_mp-541404.json.lzma\",\n",
    "        \"MP GGA relax 2 mp-146\": \"MP_GGA_relax_2_mp-146.json.lzma\",\n",
    "        \"MP meta-GGA relax 2 mp-12957\": \"MP_meta-GGA_relax_2_mp-12957.json.lzma\",\n",
    "        \"MP pre-relax 1 mp-12957\": \"MP_pre-relax_1_mp-12957.json.lzma\",\n",
    "        \"MP GGA relax 1 mp-12957\": \"MP_GGA_relax_1_mp-12957.json.lzma\",\n",
    "        \"MP GGA static mp-541404\": \"MP_GGA_static_mp-541404.json.lzma\",\n",
    "        \"MP GGA relax 1 mp-146\": \"MP_GGA_relax_1_mp-146.json.lzma\",\n",
    "        \"MP GGA static mp-18937\": \"MP_GGA_static_mp-18937.json.lzma\",\n",
    "        \"MP GGA relax 2 mp-12957\": \"MP_GGA_relax_2_mp-12957.json.lzma\",\n",
    "        \"MP pre-relax 1 mp-18937\": \"MP_pre-relax_1_mp-18937.json.lzma\",\n",
    "        \"MP meta-GGA relax 2 mp-18937\": \"MP_meta-GGA_relax_2_mp-18937.json.lzma\",\n",
    "        \"MP GGA relax 1 mp-541404\": \"MP_GGA_relax_1_mp-541404.json.lzma\",\n",
    "        \"MP meta-GGA static mp-18937\": \"MP_meta-GGA_static_mp-18937.json.lzma\",\n",
    "        \"MP GGA relax 2 mp-541404\": \"MP_GGA_relax_2_mp-541404.json.lzma\",\n",
    "    }.items()\n",
    "}\n",
    "\n",
    "job_store = JobStore(MemoryStore(), additional_stores={\"data\": MemoryStore()})\n",
    "\n",
    "with mock_vasp(ref_paths) as vasp:\n",
    "    responses = run_locally(\n",
    "        all_jobs,\n",
    "        store=job_store,\n",
    "        create_folders=True,\n",
    "        ensure_success=True,\n",
    "    )"
   ]
  },
  {
   "cell_type": "markdown",
   "metadata": {},
   "source": [
    "If you ran this locally, you can collect the output of the jobs from the local directory structure. We use the formula of the original structures and `calc_type` (name of the functional used plus the type of job performed, like a static or a relaxation) to distinguish jobs. We will use `tasks` to plot phase diagrams."
   ]
  },
  {
   "cell_type": "code",
   "execution_count": null,
   "metadata": {
    "tags": [
     "skip-execution"
    ]
   },
   "outputs": [],
   "source": [
    "from pathlib import Path\n",
    "\n",
    "from emmet.core.tasks import TaskDoc\n",
    "\n",
    "formula_to_mpid = {s.formula: mpid for mpid, s in structures.items()}\n",
    "task_list = [TaskDoc.from_directory(p) for p in Path(\".\").glob(\"job_*\") if p.is_dir()]\n",
    "tasks = {mpid: {} for mpid in structures}\n",
    "for task in task_list:\n",
    "    mpid = formula_to_mpid.get(task.structure.formula)\n",
    "    ct = task.calc_type.value\n",
    "    if ct in tasks[mpid]:\n",
    "        nmatch = len([k for k in tasks[mpid] if ct in k])\n",
    "        ct += f\" {nmatch + 1}\"\n",
    "    tasks[mpid][ct] = task\n",
    "\n",
    "dumpfn(tasks, \"V-O_MP_task_docs.json.gz\")"
   ]
  },
  {
   "cell_type": "markdown",
   "metadata": {},
   "source": [
    "Alternatively, you could use the following code to obtain the output using the job names directly. It's a good exercise to see how you can use `all_output` in the following phase diagram plots."
   ]
  },
  {
   "cell_type": "code",
   "execution_count": null,
   "metadata": {
    "tags": [
     "skip-execution"
    ]
   },
   "outputs": [],
   "source": [
    "from atomate2.utils.testing import get_job_uuid_name_map\n",
    "\n",
    "job_uuid_to_name = get_job_uuid_name_map(all_jobs)\n",
    "\n",
    "all_output = {\n",
    "    name: responses[uuid][1].output for uuid, name in job_uuid_to_name.items()\n",
    "}"
   ]
  },
  {
   "cell_type": "markdown",
   "metadata": {},
   "source": [
    "Last, and this is the way you should go in high-throughput, we can query the job store for output. The contents of the job store are \"deserialized,\" so we reconstruct them with their document model, `emmet.core.tasks.TaskDoc`.\n",
    "\n",
    "Note that we only need the static calculations (with `task_type` of `GGA Static`, `GGA+U Static`, and `r2SCAN Static`) to build the phase diagram, as these most accurately capture the total energy. That's because of various electronic structure calculation reasons (e.g., as the lattice changes during a geomtry optimization, the <i>k</i> point grid may no longer have high-enough density, or it may represent the wrong lattice symmetry)."
   ]
  },
  {
   "cell_type": "code",
   "execution_count": null,
   "metadata": {},
   "outputs": [],
   "source": [
    "from emmet.core.tasks import TaskDoc\n",
    "\n",
    "all_output = {}\n",
    "for mp_id in structures:\n",
    "    all_output[mp_id] = {}\n",
    "    for entry in job_store.query(\n",
    "        {\"metadata.mp_id\": mp_id, \"name\": {\"$regex\": \"static\"}}\n",
    "    ):\n",
    "        all_output[mp_id][entry[\"output\"][\"calc_type\"]] = TaskDoc(**entry[\"output\"])"
   ]
  },
  {
   "cell_type": "markdown",
   "metadata": {},
   "source": [
    "We will use these static calculations to build a compositional phase diagram. First, we have to apply mixing and correction scheme corrections to these tasks. These are applied by `pymatgen.entries.mixing_scheme.MaterialsProjectDFTMixingScheme` - we only have to pass a small representation of each calculation called a `ComputedStructureEntry`, to the mixer, and it applies all empirical corrections / functional mixing adjustments.\n",
    "\n",
    "<b>Note:</b> `MaterialsProjectDFTMixingScheme` will give sensible output only if you have complete phase space information (elemental unary compounds and relevant intermediates). We will cover the case of applying corrections without adjusting the PBE and r<sup>2</sup>SCAN hulls in a moment.\n",
    "\n",
    "To best demonstrate how the mixing corrections work, we will purposefully omit one of the r<sup>2</sup>SCAN calculations."
   ]
  },
  {
   "cell_type": "code",
   "execution_count": null,
   "metadata": {},
   "outputs": [],
   "source": [
    "from pymatgen.entries.mixing_scheme import MaterialsProjectDFTMixingScheme\n",
    "\n",
    "static_entries = []\n",
    "for mpid, calcs in all_output.items():\n",
    "    for calc_type, task_doc in calcs.items():\n",
    "        if mpid == \"mp-18937\" and calc_type.lower() == \"r2scan static\":\n",
    "            continue\n",
    "\n",
    "        if \"static\" in calc_type.lower():\n",
    "            cse = task_doc.structure_entry\n",
    "            cse.entry_id = f\"{cse.parameters['run_type']} {mpid}\"\n",
    "            cse.data[\"material_id\"] = mpid\n",
    "            static_entries.append(cse)\n",
    "\n",
    "mixer = MaterialsProjectDFTMixingScheme()\n",
    "corrected_entries = mixer.process_entries(static_entries)\n",
    "\n",
    "for ce in corrected_entries:\n",
    "    print(ce.entry_id, ce.energy_adjustments)  # noqa: T201"
   ]
  },
  {
   "cell_type": "markdown",
   "metadata": {},
   "source": [
    "Now let's actually plot the phase diagram! Note that the one calculation where we purposefully skipped the r<sup>2</sup>SCAN calculation, `mp-18937`, is represented by a PBE+<i>U</i> calculation. You can see this by hovering your cursor over that particular data point.\n",
    "\n",
    "Try to compare your phase diagram to the one that [MP calculates](https://next-gen.materialsproject.org/phasediagram).\n",
    "\n",
    "What happens if you do not skip this calculation? How does the convex hull change?"
   ]
  },
  {
   "cell_type": "code",
   "execution_count": null,
   "metadata": {},
   "outputs": [],
   "source": [
    "from pymatgen.analysis.phase_diagram import PhaseDiagram\n",
    "\n",
    "pd = PhaseDiagram(corrected_entries)\n",
    "fig = pd.get_plot()\n",
    "fig.update_layout(width=1000, height=700, plot_bgcolor=\"white\", paper_bgcolor=\"white\")"
   ]
  },
  {
   "cell_type": "markdown",
   "metadata": {},
   "source": [
    "To apply just corrections/preliminary mixing to the PBE and PBE+<i>U</i> entries, you would use `pymatgen.entries.compatibility.MaterialsProject2020Compatibility`. This is useful if you want to compare to older MP data in the [legacy site](https://legacy.materialsproject.org/). The correction scheme will raise a `CompatibilityError` if you attempt to apply it to non-PBE/+<i>U</i> entries."
   ]
  },
  {
   "cell_type": "code",
   "execution_count": null,
   "metadata": {},
   "outputs": [],
   "source": [
    "from pymatgen.entries.compatibility import MaterialsProject2020Compatibility\n",
    "from pymatgen.entries.computed_entries import ComputedStructureEntry\n",
    "\n",
    "compat_scheme = MaterialsProject2020Compatibility()\n",
    "gga_gga_u_corrected_entries = []\n",
    "for mpid, calcs in tasks.items():\n",
    "    for calc_type, task_doc in calcs.items():\n",
    "        if all(kwd in calc_type.lower() for kwd in (\"gga\", \"static\")):\n",
    "            cse_dict = task_doc.structure_entry.as_dict()\n",
    "            cse_dict[\"energy_adjustments\"] = compat_scheme.get_adjustments(\n",
    "                task_doc.structure_entry\n",
    "            )\n",
    "            corrected_cse = ComputedStructureEntry.from_dict(cse_dict)\n",
    "            print(  # noqa: T201\n",
    "                mpid, corrected_cse.formula, calc_type, corrected_cse.energy_adjustments\n",
    "            )"
   ]
  },
  {
   "cell_type": "markdown",
   "metadata": {},
   "source": [
    "### Note on revised MP input sets / workflows\n",
    "\n",
    "The Materials Project recently undertook a significant [benchmarking effort](https://github.com/materialsproject/foundation/pull/26) to verify the accuracy of its DFT calculations. That ultimately led to the construction of new r<sup>2</sup>SCAN input sets, which are currently being used to recompute all entries in MP.\n",
    "\n",
    "While these data aren't currently publicly available, if you want to use these newer input sets / workflows, we list them below:\n",
    "\n",
    "```python\n",
    "from pymatgen.io.vasp.sets import MP24RelaxSet\n",
    "from atomate2.vasp.flows.mp import MP24DoubleRelaxStaticMaker\n",
    "```\n",
    "\n",
    "Then you would use `MP24DoubleRelaxStaticMaker` in place of `MPMetaGGARelaxMaker`."
   ]
  }
 ],
 "metadata": {
  "language_info": {
   "codemirror_mode": {
    "name": "ipython",
    "version": 3
   },
   "file_extension": ".py",
   "mimetype": "text/x-python",
   "name": "python",
   "nbconvert_exporter": "python",
   "pygments_lexer": "ipython3",
   "version": "3.11.11"
  }
 },
 "nbformat": 4,
 "nbformat_minor": 2
}
