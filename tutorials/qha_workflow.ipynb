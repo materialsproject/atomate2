{
 "cells": [
  {
   "cell_type": "markdown",
   "id": "0",
   "metadata": {},
   "source": [
    "# Quasi-harmonic Workflow Tutorial with VASP"
   ]
  },
  {
   "cell_type": "markdown",
   "id": "1",
   "metadata": {},
   "source": [
    "This first part is only needed as we have to mock VASP here as we cannot run it directly in a jupyter notebook:"
   ]
  },
  {
   "cell_type": "code",
   "execution_count": null,
   "id": "2",
   "metadata": {},
   "outputs": [],
   "source": [
    "import warnings\n",
    "\n",
    "from mock_vasp import TEST_DIR, mock_vasp\n",
    "\n",
    "ref_paths = {\n",
    "    \"phonon static 1/1\": \"Si_qha_2/phonon_static_1_1\",\n",
    "    \"static\": \"Si_qha_2/static\",\n",
    "    \"tight relax 1 EOS equilibrium relaxation\": \"Si_qha_2/tight_relax_1\",\n",
    "    \"tight relax 2 EOS equilibrium relaxation\": \"Si_qha_2/tight_relax_2\",\n",
    "    \"tight relax 1 deformation 0\": \"Si_qha_2/tight_relax_1_d0\",\n",
    "    \"tight relax 1 deformation 1\": \"Si_qha_2/tight_relax_1_d1\",\n",
    "    \"tight relax 1 deformation 2\": \"Si_qha_2/tight_relax_1_d2\",\n",
    "    \"tight relax 1 deformation 3\": \"Si_qha_2/tight_relax_1_d3\",\n",
    "    \"tight relax 1 deformation 4\": \"Si_qha_2/tight_relax_1_d4\",\n",
    "    \"tight relax 1 deformation 5\": \"Si_qha_2/tight_relax_1_d5\",\n",
    "    \"tight relax 2 deformation 0\": \"Si_qha_2/tight_relax_2_d0\",\n",
    "    \"tight relax 2 deformation 1\": \"Si_qha_2/tight_relax_2_d1\",\n",
    "    \"tight relax 2 deformation 2\": \"Si_qha_2/tight_relax_2_d2\",\n",
    "    \"tight relax 2 deformation 3\": \"Si_qha_2/tight_relax_2_d3\",\n",
    "    \"tight relax 2 deformation 4\": \"Si_qha_2/tight_relax_2_d4\",\n",
    "    \"tight relax 2 deformation 5\": \"Si_qha_2/tight_relax_2_d5\",\n",
    "    \"dft phonon static eos deformation 1\": \"Si_qha_2/\"\n",
    "    \"dft_phonon_static_eos_deformation_1\",\n",
    "    \"dft phonon static eos deformation 2\": \"Si_qha_2/\"\n",
    "    \"dft_phonon_static_eos_deformation_2\",\n",
    "    \"dft phonon static eos deformation 3\": \"Si_qha_2/\"\n",
    "    \"dft_phonon_static_eos_deformation_3\",\n",
    "    \"dft phonon static eos deformation 4\": \"Si_qha_2/\"\n",
    "    \"dft_phonon_static_eos_deformation_4\",\n",
    "    \"dft phonon static eos deformation 5\": \"Si_qha_2/\"\n",
    "    \"dft_phonon_static_eos_deformation_5\",\n",
    "    \"dft phonon static eos deformation 6\": \"Si_qha_2/\"\n",
    "    \"dft_phonon_static_eos_deformation_6\",\n",
    "    \"dft phonon static eos deformation 7\": \"Si_qha_2/\"\n",
    "    \"dft_phonon_static_eos_deformation_7\",\n",
    "    \"dft phonon static 1/1 eos deformation 1\": \"Si_qha_2/\"\n",
    "    \"dft_phonon_static_1_1_eos_deformation_1\",\n",
    "    \"dft phonon static 1/1 eos deformation 2\": \"Si_qha_2/\"\n",
    "    \"dft_phonon_static_1_1_eos_deformation_2\",\n",
    "    \"dft phonon static 1/1 eos deformation 3\": \"Si_qha_2/\"\n",
    "    \"dft_phonon_static_1_1_eos_deformation_3\",\n",
    "    \"dft phonon static 1/1 eos deformation 4\": \"Si_qha_2/\"\n",
    "    \"dft_phonon_static_1_1_eos_deformation_4\",\n",
    "    \"dft phonon static 1/1 eos deformation 5\": \"Si_qha_2/\"\n",
    "    \"dft_phonon_static_1_1_eos_deformation_5\",\n",
    "    \"dft phonon static 1/1 eos deformation 6\": \"Si_qha_2/\"\n",
    "    \"dft_phonon_static_1_1_eos_deformation_6\",\n",
    "    \"dft phonon static 1/1 eos deformation 7\": \"Si_qha_2/\"\n",
    "    \"dft_phonon_static_1_1_eos_deformation_7\",\n",
    "}"
   ]
  },
  {
   "cell_type": "markdown",
   "id": "3",
   "metadata": {},
   "source": [
    "This tutorial will make use of a quasi-harmonic workflow that allows to include volume-dependent anharmonicity into the calculation of phonon free energies.\n",
    "Please check out the paper by Togo to learn about the exact implementation as we will rely on Phonopy to perform the quasi-harmonic approximation: https://doi.org/10.7566/JPSJ.92.012001.\n",
    "At the moment, we perform harmonic free energy calculation along a volume curve to arrive at free energy-volume curves that are the starting point for the quasi-harmonic approximation."
   ]
  },
  {
   "cell_type": "markdown",
   "id": "4",
   "metadata": {},
   "source": [
    "## Let's run the workflow\n",
    "Now, we load a structure and other important functions and classes for running the qha workflow."
   ]
  },
  {
   "cell_type": "code",
   "execution_count": null,
   "id": "5",
   "metadata": {},
   "outputs": [],
   "source": [
    "from jobflow import JobStore, run_locally\n",
    "from maggma.stores import MemoryStore\n",
    "from pymatgen.core import Structure\n",
    "\n",
    "from atomate2.vasp.flows.qha import QhaMaker\n",
    "\n",
    "job_store = JobStore(MemoryStore(), additional_stores={\"data\": MemoryStore()})\n",
    "si_structure = Structure.from_file(TEST_DIR / \"structures\" / \"Si_diamond.cif\")"
   ]
  },
  {
   "cell_type": "markdown",
   "id": "6",
   "metadata": {},
   "source": [
    "Then one can use the `QhaMaker` to generate a `Flow`.\n",
    "First, the structure will be optimized than the structures will be optimized at constant volume along an energy volume curve. \n",
    "Please make sure the structural optimizations are tight enough. At each of these volumes, a phonon run will then be performed.\n",
    "The quasi-harmonic approximation is only valid if the harmonic phonon curves don't show any imaginary modes. However, for testing, you\n",
    "can also switch off this option."
   ]
  },
  {
   "cell_type": "markdown",
   "id": "7",
   "metadata": {},
   "source": [
    "Before we start the quasi-harmonic workflow, we adapt the first relaxation, the relaxation with different volumes and the static runs for the phonon calculation. As we deal with Si, we will not add the non-analytical term correction. For this we load the respective Makers."
   ]
  },
  {
   "cell_type": "code",
   "execution_count": null,
   "id": "8",
   "metadata": {},
   "outputs": [],
   "source": [
    "from atomate2.vasp.flows.core import DoubleRelaxMaker\n",
    "from atomate2.vasp.flows.phonons import PhononMaker\n",
    "from atomate2.vasp.jobs.core import TightRelaxMaker\n",
    "from atomate2.vasp.jobs.phonons import PhononDisplacementMaker\n",
    "from atomate2.vasp.sets.core import StaticSetGenerator, TightRelaxSetGenerator\n",
    "\n",
    "warnings.filterwarnings(\"ignore\")\n",
    "\n",
    "phonon_bulk_relax_maker_isif3 = DoubleRelaxMaker.from_relax_maker(\n",
    "    TightRelaxMaker(\n",
    "        run_vasp_kwargs={\"handlers\": ()},\n",
    "        input_set_generator=TightRelaxSetGenerator(\n",
    "            user_incar_settings={\n",
    "                \"GGA\": \"PE\",\n",
    "                \"ISPIN\": 1,\n",
    "                \"KSPACING\": 0.1,\n",
    "                \"ALGO\": \"Normal\",\n",
    "                \"LAECHG\": False,\n",
    "                \"ISMEAR\": 0,\n",
    "                \"ENCUT\": 700,\n",
    "                \"IBRION\": 1,\n",
    "                \"ISYM\": 0,\n",
    "                \"SIGMA\": 0.05,\n",
    "                \"LCHARG\": False,\n",
    "                \"LWAVE\": False,\n",
    "                \"LVTOT\": False,\n",
    "                \"LORBIT\": None,\n",
    "                \"LOPTICS\": False,\n",
    "                \"LREAL\": False,\n",
    "                \"ISIF\": 3,\n",
    "                \"NPAR\": 4,\n",
    "            }\n",
    "        ),\n",
    "    )\n",
    ")\n",
    "\n",
    "phonon_displacement_maker = PhononDisplacementMaker(\n",
    "    run_vasp_kwargs={\"handlers\": ()},\n",
    "    input_set_generator=StaticSetGenerator(\n",
    "        user_incar_settings={\n",
    "            \"GGA\": \"PE\",\n",
    "            \"IBRION\": -1,\n",
    "            \"ISPIN\": 1,\n",
    "            \"ISMEAR\": 0,\n",
    "            \"ISIF\": 3,\n",
    "            \"ENCUT\": 700,\n",
    "            \"EDIFF\": 1e-7,\n",
    "            \"LAECHG\": False,\n",
    "            \"LREAL\": False,\n",
    "            \"ALGO\": \"Normal\",\n",
    "            \"NSW\": 0,\n",
    "            \"LCHARG\": False,\n",
    "            \"LWAVE\": False,\n",
    "            \"LVTOT\": False,\n",
    "            \"LORBIT\": None,\n",
    "            \"LOPTICS\": False,\n",
    "            \"SIGMA\": 0.05,\n",
    "            \"ISYM\": 0,\n",
    "            \"KSPACING\": 0.1,\n",
    "            \"NPAR\": 4,\n",
    "        },\n",
    "        auto_ispin=False,\n",
    "    ),\n",
    ")\n",
    "\n",
    "\n",
    "phonon_bulk_relax_maker_isif4 = DoubleRelaxMaker.from_relax_maker(\n",
    "    TightRelaxMaker(\n",
    "        run_vasp_kwargs={\"handlers\": ()},\n",
    "        input_set_generator=TightRelaxSetGenerator(\n",
    "            user_incar_settings={\n",
    "                \"GGA\": \"PE\",\n",
    "                \"ISPIN\": 1,\n",
    "                \"KSPACING\": 0.1,\n",
    "                \"ALGO\": \"Normal\",\n",
    "                \"LAECHG\": False,\n",
    "                \"ISMEAR\": 0,\n",
    "                \"ENCUT\": 700,\n",
    "                \"IBRION\": 1,\n",
    "                \"ISYM\": 0,\n",
    "                \"SIGMA\": 0.05,\n",
    "                \"LCHARG\": False,\n",
    "                \"LWAVE\": False,\n",
    "                \"LVTOT\": False,\n",
    "                \"LORBIT\": None,\n",
    "                \"LOPTICS\": False,\n",
    "                \"LREAL\": False,\n",
    "                \"ISIF\": 4,\n",
    "                \"NPAR\": 4,\n",
    "            }\n",
    "        ),\n",
    "    )\n",
    ")\n",
    "\n",
    "phonon_displacement_maker.name = \"dft phonon static\""
   ]
  },
  {
   "cell_type": "markdown",
   "id": "9",
   "metadata": {},
   "source": [
    "Then we can construct a `QhaMaker` flow as follows:"
   ]
  },
  {
   "cell_type": "code",
   "execution_count": null,
   "id": "10",
   "metadata": {},
   "outputs": [],
   "source": [
    "flow = QhaMaker(\n",
    "    initial_relax_maker=phonon_bulk_relax_maker_isif3,\n",
    "    eos_relax_maker=phonon_bulk_relax_maker_isif4,\n",
    "    min_length=10,\n",
    "    phonon_maker=PhononMaker(\n",
    "        generate_frequencies_eigenvectors_kwargs={\n",
    "            \"tmin\": 0,\n",
    "            \"tmax\": 1000,\n",
    "            \"tstep\": 10,\n",
    "        },\n",
    "        bulk_relax_maker=None,\n",
    "        born_maker=None,\n",
    "        static_energy_maker=phonon_displacement_maker,\n",
    "        phonon_displacement_maker=phonon_displacement_maker,\n",
    "    ),\n",
    "    linear_strain=(-0.15, 0.15),\n",
    "    number_of_frames=6,\n",
    "    pressure=None,\n",
    "    t_max=None,\n",
    "    ignore_imaginary_modes=False,\n",
    "    skip_analysis=False,\n",
    "    eos_type=\"vinet\",\n",
    ").make(structure=si_structure)"
   ]
  },
  {
   "cell_type": "code",
   "execution_count": null,
   "id": "11",
   "metadata": {
    "jupyter": {
     "is_executing": true
    }
   },
   "outputs": [],
   "source": [
    "with mock_vasp(ref_paths=ref_paths) as mf:\n",
    "    run_locally(\n",
    "        flow,\n",
    "        create_folders=True,\n",
    "        ensure_success=True,\n",
    "        raise_immediately=True,\n",
    "        store=job_store,\n",
    "    )"
   ]
  },
  {
   "cell_type": "markdown",
   "id": "12",
   "metadata": {},
   "source": [
    "## Let's retrieve the data and analyze it"
   ]
  },
  {
   "cell_type": "code",
   "execution_count": null,
   "id": "13",
   "metadata": {},
   "outputs": [],
   "source": [
    "job_store.connect()\n",
    "\n",
    "result = job_store.query_one(\n",
    "    {\"name\": \"analyze_free_energy\"},\n",
    "    properties=[\n",
    "        \"output.helmholtz_volume\",\n",
    "        \"output.temperatures\",\n",
    "        \"output.volumes\",\n",
    "    ],\n",
    "    load=True,\n",
    "    sort={\"completed_at\": -1},  # to get the latest computation\n",
    ")"
   ]
  },
  {
   "cell_type": "markdown",
   "id": "14",
   "metadata": {},
   "source": [
    "You can then plot some of the output free energy volume curves"
   ]
  },
  {
   "cell_type": "code",
   "execution_count": null,
   "id": "15",
   "metadata": {},
   "outputs": [],
   "source": [
    "import matplotlib.pyplot as plt\n",
    "\n",
    "for temp, energy_list in zip(\n",
    "    result[\"output\"][\"temperatures\"],\n",
    "    result[\"output\"][\"helmholtz_volume\"],\n",
    "    strict=False,\n",
    "):\n",
    "    # Create the plot\n",
    "    plt.plot(\n",
    "        result[\"output\"][\"volumes\"],\n",
    "        energy_list,\n",
    "        marker=\"o\",\n",
    "        label=temp,\n",
    "    )\n",
    "    # Add labels and title\n",
    "plt.xlabel(\"Volume\")\n",
    "plt.ylabel(\"Free Energy\")\n",
    "\n",
    "# Show the plot\n",
    "plt.show()"
   ]
  }
 ],
 "metadata": {
  "language_info": {
   "codemirror_mode": {
    "name": "ipython",
    "version": 2
   },
   "file_extension": ".py",
   "mimetype": "text/x-python",
   "name": "python",
   "nbconvert_exporter": "python",
   "pygments_lexer": "ipython2",
   "version": "2.7.6"
  }
 },
 "nbformat": 4,
 "nbformat_minor": 5
}
