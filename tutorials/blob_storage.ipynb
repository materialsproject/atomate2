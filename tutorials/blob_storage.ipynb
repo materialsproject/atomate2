{
 "cells": [
  {
   "cell_type": "code",
   "execution_count": null,
   "metadata": {},
   "outputs": [],
   "source": [
    "from jobflow import JobStore, run_locally\n",
    "from maggma.stores import MemoryStore\n",
    "from mock_vasp import TEST_DIR, mock_vasp\n",
    "from monty.json import MontyDecoder\n",
    "from pymatgen.core import Structure\n",
    "from pymatgen.io.vasp import Chgcar\n",
    "\n",
    "from atomate2.vasp.flows.core import StaticMaker\n",
    "\n",
    "job_store = JobStore(MemoryStore(), additional_stores={\"data\": MemoryStore()})\n",
    "si_structure = Structure.from_file(TEST_DIR / \"structures\" / \"Si.cif\")\n",
    "ref_paths = {\"static\": \"Si_band_structure/static\"}"
   ]
  },
  {
   "cell_type": "markdown",
   "metadata": {},
   "source": [
    "# Using Blob Storage\n",
    "\n",
    "While most of the output data from `atomate2` is serialized and stored in a MongoDB database, some objects exceed the 16MB limit for MongoDB documents and must be placed into blob storage.  Objects like the electronic charge density (`Chgcar`) are routinely larger than this file size and requires special treatment.  `jobflows` method of dealing with these objects this shown below:\n",
    "\n",
    "```python\n",
    "@job(data=Chgcar)\n",
    "def some_job():\n",
    "    # return a document/dictionary that contains a Chgcar\n",
    "    return dictionary\n",
    "```\n",
    "\n",
    "where the argument to the `@job` decorator indicates that all `Chgcar` objects will be automaically dispatched to \n",
    "\n",
    "```python\n",
    "JOB_STORE.additional_stores[\"data\"]\n",
    "```\n",
    "\n",
    "Which should already be configured in your `jobflow.yaml` file.\n",
    "\n",
    "For more details on how `additional_store` works please check out this [example](https://github.com/materialsproject/jobflow/blob/main/examples/data_store.py).\n"
   ]
  },
  {
   "cell_type": "markdown",
   "metadata": {
    "tags": []
   },
   "source": [
    "`atomate2` will automatically dispatch some well-known large objects to the `data` blob storage.\n",
    "\n",
    "A full list of the the objects that will automatically dispatched to blob storage can be found [here](https://github.com/materialsproject/atomate2/blob/22b2fa0f7152aa7716906da4cf08672b8960d45d/src/atomate2/vasp/jobs/base.py#L39-L52):\n",
    "\n",
    "\n",
    "\n",
    "A common usage case of object storage is in storing volumetric data from VASP outputs.  The storage of volumetric data is turned off by default, but specific files can be turned on by setting the `task_document_kwargs` for any child class of `BaseVaspMaker`.\n",
    "For example, to store the `CHGCAR` file, you would set the `task_document_kwargs` in StaticMaker as follows:\n"
   ]
  },
  {
   "cell_type": "code",
   "execution_count": null,
   "metadata": {},
   "outputs": [],
   "source": [
    "static_maker = StaticMaker(task_document_kwargs={\"store_volumetric_data\": (\"chgcar\",)})"
   ]
  },
  {
   "cell_type": "markdown",
   "metadata": {},
   "source": [
    "Note that a valid list of object `Enum` values must be provided to `store_volumetric_data` in order to store the data.  The list of valid objects can be found [here](https://github.com/materialsproject/emmet/blob/183d74c8ed640b64ba596eedbebba7072bc4f1af/emmet-core/emmet/core/vasp/calculation.py#L48)\n",
    "\n",
    "```python\n",
    "class VaspObject(ValueEnum):\n",
    "    \"\"\"Types of VASP data objects.\"\"\"\n",
    "\n",
    "    BANDSTRUCTURE = \"bandstructure\"\n",
    "    DOS = \"dos\"\n",
    "    CHGCAR = \"chgcar\"\n",
    "    AECCAR0 = \"aeccar0\"\n",
    "    AECCAR1 = \"aeccar1\"\n",
    "    AECCAR2 = \"aeccar2\"\n",
    "    TRAJECTORY = \"trajectory\"\n",
    "    ELFCAR = \"elfcar\"\n",
    "    WAVECAR = \"wavecar\"\n",
    "    LOCPOT = \"locpot\"\n",
    "    OPTIC = \"optic\"\n",
    "    PROCAR = \"procar\"\n",
    "```\n",
    "\n",
    "\n",
    "Using the `static_maker` we can create a job and execute it."
   ]
  },
  {
   "cell_type": "code",
   "execution_count": null,
   "metadata": {
    "tags": []
   },
   "outputs": [],
   "source": [
    "# create the job\n",
    "job = static_maker.make(si_structure)\n",
    "# run the job in a mock vasp environment\n",
    "# make sure to send the results to the temporary job store\n",
    "with mock_vasp(ref_paths=ref_paths) as mf:\n",
    "    responses = run_locally(\n",
    "        job,\n",
    "        create_folders=True,\n",
    "        ensure_success=True,\n",
    "        store=job_store,\n",
    "        raise_immediately=True,\n",
    "    )"
   ]
  },
  {
   "cell_type": "markdown",
   "metadata": {},
   "source": [
    "Once the job completes, you can retrieve the full task document along with the serialized `Chgcar` object from the blob storage and reconstruct the `Chgcar` object using the `load=True` flag as shown below."
   ]
  },
  {
   "cell_type": "code",
   "execution_count": null,
   "metadata": {
    "tags": []
   },
   "outputs": [],
   "source": [
    "with job_store as js:\n",
    "    result = js.get_output(job.uuid, load=True)\n",
    "\n",
    "chgcar = MontyDecoder().process_decoded(result[\"vasp_objects\"][\"chgcar\"])\n",
    "if not isinstance(chgcar, Chgcar):\n",
    "    raise TypeError(f\"{type(chgcar)=}\")"
   ]
  },
  {
   "cell_type": "markdown",
   "metadata": {},
   "source": [
    "However, if the objects is too big to keep around while you are exploring the data structure, you can use the default `load=False` flag and only load the reference to the object.  This will allow you to explore the data structure without loading the object into memory."
   ]
  },
  {
   "cell_type": "code",
   "execution_count": null,
   "metadata": {},
   "outputs": [],
   "source": [
    "with job_store as js:\n",
    "    result_no_obj = js.get_output(job.uuid)\n",
    "result_no_obj[\"vasp_objects\"]"
   ]
  },
  {
   "cell_type": "markdown",
   "metadata": {},
   "source": [
    "Then you can query for the object at any time using the `blob_uuid`.\n"
   ]
  },
  {
   "cell_type": "code",
   "execution_count": null,
   "metadata": {},
   "outputs": [],
   "source": [
    "search_data = result_no_obj[\"vasp_objects\"][\"chgcar\"]\n",
    "with job_store.additional_stores[\"data\"] as js:\n",
    "    blob_data = js.query_one(criteria={\"blob_uuid\": search_data[\"blob_uuid\"]})"
   ]
  },
  {
   "cell_type": "markdown",
   "metadata": {},
   "source": [
    "Then we can deserialize the object again from the `data` subfield of the blob query result."
   ]
  },
  {
   "cell_type": "code",
   "execution_count": null,
   "metadata": {},
   "outputs": [],
   "source": [
    "chgcar2 = MontyDecoder().process_decoded(blob_data[\"data\"])"
   ]
  }
 ],
 "metadata": {
  "language_info": {
   "codemirror_mode": {
    "name": "ipython",
    "version": 3
   },
   "file_extension": ".py",
   "mimetype": "text/x-python",
   "name": "python",
   "nbconvert_exporter": "python",
   "pygments_lexer": "ipython3",
   "version": "3.11.9"
  }
 },
 "nbformat": 4,
 "nbformat_minor": 4
}
