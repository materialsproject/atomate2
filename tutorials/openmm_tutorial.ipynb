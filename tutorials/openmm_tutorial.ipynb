{
 "cells": [
  {
   "cell_type": "markdown",
   "id": "0",
   "metadata": {
    "jupyter": {
     "outputs_hidden": false
    }
   },
   "source": [
    "### Installing Atomate2 From Source with OpenMM\n",
    "\n",
    "```bash\n",
    "# setting up our conda environment\n",
    ">>> conda create -n atomate2 python=3.11\n",
    ">>> conda activate atomate2\n",
    "\n",
    "# installing atomate2\n",
    ">>> pip install 'git+https://github.com/orionarcher/atomate2.git#egg=atomate2[classical_md]'\n",
    "\n",
    "# installing classical_md dependencies\n",
    ">>> conda install -c conda-forge --file .github/classical_md_requirements.txt\n",
    "```\n",
    "\n",
    "Alternatively, if you anticipate regularly updating atomate2 from source (which at this point, you should), you can clone the repository and install from source.\n",
    "\n",
    "``` bash\n",
    "# installing atomate2\n",
    ">>> git clone https://github.com/orionarcher/atomate2.git\n",
    ">>> cd atomate2\n",
    ">>> git branch openff\n",
    ">>> git checkout openff\n",
    ">>> git pull origin openff\n",
    ">>> pip install -e '.[classical_md]'\n",
    "```\n",
    "\n",
    "To test the openmm installation, you can run the following command. If you intend to run on GPU, make sure that the tests are passing for CUDA.\n",
    "\n",
    "```bash\n",
    ">>> python -m openmm.testInstallation\n",
    "```\n",
    "\n",
    "```bash\n",
    "pip uninstall pymongo\n",
    "pip uninstall bson\n",
    "pip install pymongo\n",
    "```"
   ]
  },
  {
   "cell_type": "markdown",
   "id": "1",
   "metadata": {},
   "source": [
    "### Understanding Atomate2 OpenMM \n",
    "\n",
    "Atomate2 is really just a collection of jobflow workflows relevant to materials science. In all the workflows, we pass our system of interest between different jobs to perform the desired simulation. Representing the intermediate state of a classical molecular dynamics simulation, however, is challenging. While the intermediate representation between stages of a periodic DFT simulation can include just the elements, xyz coordinates, and box vectors, classical molecular dynamics systems must also include velocities and forces. The latter is particularly challenging because all MD engines represent forces differently. Rather than implement our own representation, we use the `openff.interchange.Interchange` object, which catalogs the necessary system properties and interfaces with a variety of MD engines. This is the object that we pass between stages of a classical MD simulation and it is the starting point of our workflow."
   ]
  },
  {
   "cell_type": "markdown",
   "id": "2",
   "metadata": {},
   "source": [
    "### Pouring a Glass of Wine\n",
    "\n",
    "The first job we need to create generates the `Interchange` object. To specify the system of interest, we use give it the SMILES strings, counts, and names (optional) of the molecules we want to include."
   ]
  },
  {
   "cell_type": "code",
   "execution_count": null,
   "id": "3",
   "metadata": {
    "jupyter": {
     "outputs_hidden": false
    }
   },
   "outputs": [],
   "source": [
    "from atomate2.openff.core import generate_interchange\n",
    "\n",
    "mol_specs_dicts = [\n",
    "    {\"smiles\": \"O\", \"count\": 200, \"name\": \"water\"},\n",
    "    {\"smiles\": \"CCO\", \"count\": 10, \"name\": \"ethanol\"},\n",
    "    {\"smiles\": \"C1=C(C=C(C(=C1O)O)O)C(=O)O\", \"count\": 1, \"name\": \"gallic_acid\"},\n",
    "]\n",
    "\n",
    "gallic_interchange_job = generate_interchange(mol_specs_dicts, 1.3)"
   ]
  },
  {
   "cell_type": "markdown",
   "id": "4",
   "metadata": {},
   "source": [
    "If you are wondering what arguments are allowed in the dictionaries, check out the `create_mol_spec` function in the `atomate2.openff.utils` module. Under the hood, this is being called on each mol_spec dict. Meaning the code below is functionally identical to the code above."
   ]
  },
  {
   "cell_type": "code",
   "execution_count": null,
   "id": "5",
   "metadata": {},
   "outputs": [],
   "source": [
    "from atomate2.openff.utils import create_mol_spec\n",
    "\n",
    "mols_specs = [create_mol_spec(**mol_spec_dict) for mol_spec_dict in mol_specs_dicts]\n",
    "\n",
    "generate_interchange(mols_specs, 1.3)"
   ]
  },
  {
   "cell_type": "markdown",
   "id": "6",
   "metadata": {},
   "source": [
    "In a more complex simulation we might want to scale the ion charges and include custom partial charges. An example with the Gen2 electrolyte is shown below. This yields the `elyte_interchange_job` object, which we can pass to the next stage of the simulation.\n",
    "\n",
    "NOTE: It's actually mandatory to include partial charges for PF6- here, the built in partial charge method fails."
   ]
  },
  {
   "cell_type": "code",
   "execution_count": null,
   "id": "7",
   "metadata": {
    "jupyter": {
     "outputs_hidden": false
    }
   },
   "outputs": [],
   "source": [
    "import numpy as np\n",
    "from pymatgen.core.structure import Molecule\n",
    "\n",
    "pf6 = Molecule(\n",
    "    [\"P\", \"F\", \"F\", \"F\", \"F\", \"F\", \"F\"],\n",
    "    [\n",
    "        [0.0, 0.0, 0.0],\n",
    "        [1.6, 0.0, 0.0],\n",
    "        [-1.6, 0.0, 0.0],\n",
    "        [0.0, 1.6, 0.0],\n",
    "        [0.0, -1.6, 0.0],\n",
    "        [0.0, 0.0, 1.6],\n",
    "        [0.0, 0.0, -1.6],\n",
    "    ],\n",
    ")\n",
    "pf6_charges = np.array([1.34, -0.39, -0.39, -0.39, -0.39, -0.39, -0.39])\n",
    "\n",
    "mol_specs_dicts = [\n",
    "    {\"smiles\": \"C1COC(=O)O1\", \"count\": 100, \"name\": \"EC\"},\n",
    "    {\"smiles\": \"CCOC(=O)OC\", \"count\": 100, \"name\": \"EMC\"},\n",
    "    {\n",
    "        \"smiles\": \"F[P-](F)(F)(F)(F)F\",\n",
    "        \"count\": 50,\n",
    "        \"name\": \"PF6\",\n",
    "        \"partial_charges\": pf6_charges,\n",
    "        \"geometry\": pf6,\n",
    "        \"charge_scaling\": 0.8,\n",
    "        \"charge_method\": \"RESP\",\n",
    "    },\n",
    "    {\"smiles\": \"[Li+]\", \"count\": 50, \"name\": \"Li\", \"charge_scaling\": 0.8},\n",
    "]\n",
    "\n",
    "elyte_interchange_job = generate_interchange(mol_specs_dicts, 1.3)"
   ]
  },
  {
   "cell_type": "markdown",
   "id": "8",
   "metadata": {},
   "source": [
    "### The basic simulation\n",
    "\n",
    "To run a production simulation, we will create a production flow, link it to our `elyte_interchange_job`, and then run both locally.\n",
    "\n",
    "In jobflow, jobs and flows are created by [Makers](https://materialsproject.github.io/jobflow/tutorials/6-makers.html), which can then be linked into more complex flows. The production maker links together makers for energy minimization, pressure equilibration, annealing, and a nvt simulation. The annealing is itself a flow flow that links together nvt and tempchange makers (it uses the `anneal_flow` method to save us from creating three more jobs manually). When linked up the `generate_interchange` job this yields a production ready molecular dynamics workflow.\n",
    "\n"
   ]
  },
  {
   "cell_type": "code",
   "execution_count": null,
   "id": "9",
   "metadata": {},
   "outputs": [],
   "source": [
    "from jobflow import Flow, run_locally\n",
    "\n",
    "from atomate2.openmm.flows.core import OpenMMFlowMaker\n",
    "from atomate2.openmm.jobs.core import EnergyMinimizationMaker, NPTMaker, NVTMaker\n",
    "\n",
    "production_maker = OpenMMFlowMaker(\n",
    "    name=\"production_flow\",\n",
    "    makers=[\n",
    "        EnergyMinimizationMaker(traj_interval=10, state_interval=10),\n",
    "        NPTMaker(n_steps=100),\n",
    "        OpenMMFlowMaker.anneal_flow(n_steps=150),\n",
    "        NVTMaker(n_steps=100),\n",
    "    ],\n",
    ")\n",
    "\n",
    "production_flow = production_maker.make(\n",
    "    elyte_interchange_job.output.interchange,\n",
    "    prev_dir=elyte_interchange_job.output.dir_name,\n",
    ")\n",
    "\n",
    "run_locally(\n",
    "    Flow([elyte_interchange_job, production_flow]), root_dir=\"./tutorial_system\"\n",
    ")"
   ]
  },
  {
   "cell_type": "markdown",
   "id": "10",
   "metadata": {},
   "source": [
    "When the above code is executed, you should expect to see something like this:\n",
    "\n",
    "```\n",
    "/tutorial_system\n",
    "├── state.csv\n",
    "├── state2.csv\n",
    "├── state3.csv\n",
    "├── state4.csv\n",
    "├── state5.csv\n",
    "├── state6.csv\n",
    "├── taskdoc.json\n",
    "├── trajectory.dcd\n",
    "├── trajectory2.dcd\n",
    "├── trajectory3.dcd\n",
    "├── trajectory4.dcd\n",
    "├── trajectory5.dcd\n",
    "├── trajectory6.dcd\n",
    "```\n",
    "\n",
    "We see that each job saved a separate state and trajectory file. There are 6 because the `AnnealMaker` creates 3 sub-jobs and the `EnergyMinimizationMaker` does not report anything. We also see a `taskdoc.json` file, which contains the metadata for the entire workflow. This is needed when we later want to do downstream analysis in `emmet`."
   ]
  },
  {
   "cell_type": "markdown",
   "id": "11",
   "metadata": {},
   "source": [
    "### Configuring the Simulation\n",
    "\n",
    "All OpenMM jobs, i.e. anything in `atomate2.openmm.jobs`, inherits from the `BaseOpenMMMaker` class. `BaseOpenMMMaker` is highly configurable, you can change the timestep, temperature, reporting frequencies, output types, and a range of other properties. See the docstring for the full list of options.\n",
    "\n",
    "Note that when instantiating the `ProductionMaker` above, we only set the `traj_interval` and `state_interval` once, inside `EnergyMinimizationMaker`. This is a key feature: all makers will inherit attributes from the previous maker if they are not explicitly reset. This allows you to set the timestep once and have it apply to all stages of the simulation. More explicitly, the value inheritance is as follows: 1) any explictly set value, 2) the value from the previous maker, 3) the default value, shown below."
   ]
  },
  {
   "cell_type": "code",
   "execution_count": null,
   "id": "12",
   "metadata": {},
   "outputs": [],
   "source": [
    "from atomate2.openmm.jobs.base import OPENMM_MAKER_DEFAULTS\n",
    "\n",
    "OPENMM_MAKER_DEFAULTS"
   ]
  },
  {
   "cell_type": "markdown",
   "id": "13",
   "metadata": {},
   "source": [
    "Perhaps we want to record a trajectory with velocities but only for the final NVT run.  "
   ]
  },
  {
   "cell_type": "markdown",
   "id": "14",
   "metadata": {},
   "source": [
    "### Running with Databases\n",
    "\n",
    "Before trying this, you should have a basic understanding of JobFlow and [Stores](https://materialsproject.github.io/jobflow/stores.html).\n",
    "\n",
    "To log OpenMM results to a database, you'll need to set up both a MongoStore, for taskdocs, and blob storage, for trajectories. Here, I'll show you the correct jobflow.yaml file to use the MongoDB storage and MinIO S3 storage provided by NERSC. To get this up, you'll need to contact NERSC to get accounts on their MongoDB and MinIO services. Then you can follow the instructions in the [Stores](https://materialsproject.github.io/jobflow/stores.html) tutorial to link jobflow to your databases. Your `jobflow.yaml` should look like this:\n",
    "\n",
    "```yaml\n",
    "JOB_STORE:\n",
    "  docs_store:\n",
    "    type: MongoStore\n",
    "    database: DATABASE\n",
    "    collection_name: atomate2_docs # suggested\n",
    "    host: mongodb05.nersc.gov\n",
    "    port: 27017\n",
    "    username: USERNAME\n",
    "    password: PASSWORD\n",
    "\n",
    "  additional_stores:\n",
    "      data:\n",
    "          type: S3Store\n",
    "          index:\n",
    "              type: MongoStore\n",
    "              database: DATABASE\n",
    "              collection_name: atomate2_blobs_index # suggested\n",
    "              host: mongodb05.nersc.gov\n",
    "              port: 27017\n",
    "              username: USERNAME\n",
    "              password: PASSWORD\n",
    "              key: blob_uuid\n",
    "          bucket: oac\n",
    "          s3_profile: oac\n",
    "          s3_resource_kwargs:\n",
    "              verify: false\n",
    "          endpoint_url: https://next-gen-minio.materialsproject.org/\n",
    "          key: blob_uuid\n",
    "```\n",
    "\n",
    "NOTE: This can work with any MongoDB and S3 storage, not just NERSC's.\n",
    "\n",
    "Rather than use `jobflow.yaml`, you could also create the stores in Python and pass the stores to the `run_locally` function. This is shown below for completeness but the prior method is usually recommended.\n",
    "\n",
    "\n",
    "```python\n",
    "from jobflow import run_locally, JobStore\n",
    "from maggma.stores import MongoStore, S3Store, MemoryStore\n",
    "\n",
    "md_doc_store = MongoStore(\n",
    "    username=\"USERNAME\",\n",
    "    password=\"PASSWORD\",\n",
    "    database=\"DATABASE\",\n",
    "    collection_name=\"atomate2_docs\", # suggested\n",
    "    host=\"mongodb05.nersc.gov\",\n",
    "    port=27017,\n",
    ")\n",
    "\n",
    "md_blob_index = MongoStore(\n",
    "    username=\"USERNAME\",\n",
    "    password=\"PASSWORD\",\n",
    "    database=\"DATABASE\",\n",
    "    collection_name=\"atomate2_blobs_index\", # suggested\n",
    "    host=\"mongodb05.nersc.gov\",\n",
    "    port=27017,\n",
    "    key=\"blob_uuid\",\n",
    ")\n",
    "\n",
    "md_blob_store = S3Store(\n",
    "    index=md_blob_index,\n",
    "    bucket=\"BUCKET\",\n",
    "    s3_profile=\"PROFILE\",\n",
    "    endpoint_url=\"https://next-gen-minio.materialsproject.org\",\n",
    "    key=\"blob_uuid\",\n",
    ")\n",
    "\n",
    "wf = [] # set up whatever workflow you'd like to run\n",
    "\n",
    "# run the flow with our custom store\n",
    "run_locally(\n",
    "    wf,\n",
    "    store=JobStore(md_doc_store, additional_stores={\"data\": md_blob_store}),\n",
    "    ensure_success=True,\n",
    ")\n",
    "```"
   ]
  },
  {
   "cell_type": "markdown",
   "id": "15",
   "metadata": {},
   "source": [
    "### Running on GPU(s)\n",
    "\n",
    "Running on a GPU is nearly as simple as running on a CPU. The only difference is that you need to specify the `platform_properties` argument in the `EnergyMinimizationMaker` with the `DeviceIndex` of the GPU you want to use."
   ]
  },
  {
   "cell_type": "code",
   "execution_count": null,
   "id": "16",
   "metadata": {},
   "outputs": [],
   "source": [
    "production_maker = OpenMMFlowMaker(\n",
    "    name=\"production_flow\",\n",
    "    makers=[\n",
    "        EnergyMinimizationMaker(\n",
    "            platform_name=\"CUDA\",\n",
    "            platform_properties={\"DeviceIndex\": \"0\"},\n",
    "        ),\n",
    "        NPTMaker(n_steps=100),\n",
    "        OpenMMFlowMaker.anneal_flow(n_steps=150),\n",
    "        NVTMaker(n_steps=100),\n",
    "    ],\n",
    ")"
   ]
  },
  {
   "cell_type": "markdown",
   "id": "17",
   "metadata": {},
   "source": [
    "To run on a system with multiple GPUs, the 'DeviceIndex' can be changed to a different number for each job."
   ]
  }
 ],
 "metadata": {
  "language_info": {
   "codemirror_mode": {
    "name": "ipython",
    "version": 3
   },
   "file_extension": ".py",
   "mimetype": "text/x-python",
   "name": "python",
   "nbconvert_exporter": "python",
   "pygments_lexer": "ipython3",
   "version": "3.11.8"
  }
 },
 "nbformat": 4,
 "nbformat_minor": 5
}
