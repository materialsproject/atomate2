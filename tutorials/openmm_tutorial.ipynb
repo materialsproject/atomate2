{
 "cells": [
  {
   "cell_type": "markdown",
   "source": [
    "### Installing Atomate2 from source with OpenMM\n",
    "\n",
    "```bash\n",
    "# setting up our conda environment\n",
    ">>> conda create -n atomate2 python=3.11\n",
    ">>> conda activate atomate2\n",
    ">>> git\n",
    "# installing atomate2\n",
    ">>> git clone https://github.com/orionarcher/atomate2.git\n",
    ">>> cd atomate2\n",
    ">>> git branch openff\n",
    ">>> git checkout openff\n",
    ">>> git pull origin openff\n",
    ">>> pip install -e .\n",
    "# installing classical_md dependencies\n",
    ">>> conda install -c conda-forge --file .github/classical_md_requirements.txt\n",
    "```\n",
    "\n",
    "\n",
    "### Testing installation\n",
    "```bash\n",
    "# make sure that tests are passing for CUDA\n",
    ">>> python -m openmm.testInstallation\n",
    "```"
   ],
   "metadata": {
    "collapsed": false
   },
   "id": "bb413e3242178b74"
  },
  {
   "cell_type": "code",
   "outputs": [],
   "source": [
    "from atomate2.classical_md.core import generate_interchange\n",
    "import numpy as np\n",
    "from jobflow import run_locally, Flow\n",
    "from atomate2.classical_md.openmm.flows.core import AnnealMaker, ProductionMaker\n",
    "from atomate2.classical_md.openmm.jobs.core import (\n",
    "    EnergyMinimizationMaker,\n",
    "    NPTMaker,\n",
    "    NVTMaker,\n",
    ")\n",
    "from pymatgen.core.structure import Molecule\n",
    "\n",
    "\n",
    "def run_job(job):\n",
    "    response_dict = run_locally(job, ensure_success=True)\n",
    "    return list(response_dict.values())[-1][1].output"
   ],
   "metadata": {
    "collapsed": false,
    "ExecuteTime": {
     "end_time": "2024-04-02T22:13:23.904326Z",
     "start_time": "2024-04-02T22:13:16.296257Z"
    }
   },
   "id": "af989a8885bb0cdc",
   "execution_count": 1
  },
  {
   "cell_type": "code",
   "outputs": [],
   "source": [
    "mol_specs_dicts = [\n",
    "    {\"smile\": \"O\", \"count\": 200, \"name\": \"water\"},\n",
    "    {\"smile\": \"CCO\", \"count\": 10, \"name\": \"ethanol\"},\n",
    "    {\"smile\": \"C1=C(C=C(C(=C1O)O)O)C(=O)O\", \"count\": 1, \"name\": \"gallic_acid\"},\n",
    "]\n",
    "\n",
    "gallic_interchange_job = generate_interchange(mol_specs_dicts, 1.3)"
   ],
   "metadata": {
    "collapsed": false
   },
   "id": "7adb88df247ef580"
  },
  {
   "cell_type": "code",
   "outputs": [],
   "source": [
    "pf6 = Molecule(\n",
    "    [\"P\", \"F\", \"F\", \"F\", \"F\", \"F\", \"F\"],\n",
    "    [\n",
    "        [0.0, 0.0, 0.0],\n",
    "        [1.6, 0.0, 0.0],\n",
    "        [-1.6, 0.0, 0.0],\n",
    "        [0.0, 1.6, 0.0],\n",
    "        [0.0, -1.6, 0.0],\n",
    "        [0.0, 0.0, 1.6],\n",
    "        [0.0, 0.0, -1.6]\n",
    "    ]\n",
    ")\n",
    "pf6_charges = np.array([1.34, -0.39, -0.39, -0.39, -0.39, -0.39, -0.39])\n",
    "\n",
    "mol_specs_dicts = [\n",
    "    {\"smile\": \"C1COC(=O)O1\", \"count\": 100, \"name\": \"EC\"},\n",
    "    {\"smile\": \"CCOC(=O)OC\", \"count\": 100, \"name\": \"EMC\"},\n",
    "    {\n",
    "        \"smile\": \"F[P-](F)(F)(F)(F)F\",\n",
    "        \"count\": 50,\n",
    "        \"name\": \"PF6\",\n",
    "        \"partial_charges\": pf6_charges,\n",
    "        \"geometry\": pf6,\n",
    "        \"charge_scaling\": 0.8,\n",
    "        \"charge_method\": \"RESP\",\n",
    "    },\n",
    "    {\"smile\": \"[Li+]\", \"count\": 50, \"name\": \"Li\", \"charge_scaling\": 0.8},\n",
    "]\n",
    "\n",
    "elyte_interchange_job = generate_interchange(mol_specs_dicts, 1.3)"
   ],
   "metadata": {
    "collapsed": false,
    "ExecuteTime": {
     "end_time": "2024-04-02T22:13:25.108742Z",
     "start_time": "2024-04-02T22:13:25.102145Z"
    }
   },
   "id": "8f4673f32a64e51a",
   "execution_count": 2
  },
  {
   "cell_type": "code",
   "outputs": [
    {
     "name": "stdout",
     "output_type": "stream",
     "text": [
      "2024-04-02 15:13:28,211 INFO Started executing jobs locally\n",
      "2024-04-02 15:13:28,217 INFO Starting job - generate_interchange (c1da9796-3b4d-4105-a385-2a0c7a15a5e3)\n",
      "2024-04-02 15:13:31,042 INFO generate_interchange failed with exception:\n",
      "Traceback (most recent call last):\n",
      "  File \"/Users/orioncohen/miniconda3/envs/atomate_emmet/lib/python3.11/site-packages/jobflow/managers/local.py\", line 114, in _run_job\n",
      "    response = job.run(store=store)\n",
      "               ^^^^^^^^^^^^^^^^^^^^\n",
      "  File \"/Users/orioncohen/miniconda3/envs/atomate_emmet/lib/python3.11/site-packages/jobflow/core/job.py\", line 583, in run\n",
      "    response = function(*self.function_args, **self.function_kwargs)\n",
      "               ^^^^^^^^^^^^^^^^^^^^^^^^^^^^^^^^^^^^^^^^^^^^^^^^^^^^^\n",
      "  File \"/Users/orioncohen/projects/development/atomate2/src/atomate2/classical_md/core.py\", line 112, in generate_interchange\n",
      "    mol_specs.append(create_mol_spec(**spec))\n",
      "                     ^^^^^^^^^^^^^^^^^^^^^^^\n",
      "  File \"/Users/orioncohen/projects/development/atomate2/src/atomate2/classical_md/utils.py\", line 344, in create_mol_spec\n",
      "    openff_mol = create_openff_mol(\n",
      "                 ^^^^^^^^^^^^^^^^^^\n",
      "  File \"/Users/orioncohen/projects/development/atomate2/src/atomate2/classical_md/utils.py\", line 291, in create_openff_mol\n",
      "    openff_mol, atom_map = add_conformer(openff_mol, geometry)\n",
      "                           ^^^^^^^^^^^^^^^^^^^^^^^^^^^^^^^^^^^\n",
      "  File \"/Users/orioncohen/projects/development/atomate2/src/atomate2/classical_md/utils.py\", line 182, in add_conformer\n",
      "    is_isomorphic, atom_map = get_atom_map(inferred_mol, openff_mol)\n",
      "                              ^^^^^^^^^^^^^^^^^^^^^^^^^^^^^^^^^^^^^^\n",
      "  File \"/Users/orioncohen/projects/development/atomate2/src/atomate2/classical_md/utils.py\", line 108, in get_atom_map\n",
      "    isomorphic, atom_map = tk.topology.Molecule.are_isomorphic(\n",
      "                           ^^^^^^^^^^^^^^^^^^^^^^^^^^^^^^^^^^^^\n",
      "  File \"/Users/orioncohen/miniconda3/envs/atomate_emmet/lib/python3.11/site-packages/openff/toolkit/topology/molecule.py\", line 2133, in are_isomorphic\n",
      "    mol2_netx = to_networkx(mol2)\n",
      "                ^^^^^^^^^^^^^^^^^\n",
      "  File \"/Users/orioncohen/miniconda3/envs/atomate_emmet/lib/python3.11/site-packages/openff/toolkit/topology/molecule.py\", line 2116, in to_networkx\n",
      "    data = deepcopy(data)\n",
      "           ^^^^^^^^^^^^^^\n",
      "  File \"/Users/orioncohen/miniconda3/envs/atomate_emmet/lib/python3.11/copy.py\", line 153, in deepcopy\n",
      "    y = copier(memo)\n",
      "        ^^^^^^^^^^^^\n",
      "  File \"/Users/orioncohen/miniconda3/envs/atomate_emmet/lib/python3.11/site-packages/openff/toolkit/topology/molecule.py\", line 1359, in __deepcopy__\n",
      "    return cls(self.to_dict())\n",
      "           ^^^^^^^^^^^^^^^^^^^\n",
      "  File \"/Users/orioncohen/miniconda3/envs/atomate_emmet/lib/python3.11/site-packages/openff/toolkit/topology/molecule.py\", line 5269, in __init__\n",
      "    super(Molecule, self).__init__(*args, **kwargs)\n",
      "  File \"/Users/orioncohen/miniconda3/envs/atomate_emmet/lib/python3.11/site-packages/openff/toolkit/topology/molecule.py\", line 1004, in __init__\n",
      "    self._initialize_from_dict(other)\n",
      "  File \"/Users/orioncohen/miniconda3/envs/atomate_emmet/lib/python3.11/site-packages/openff/toolkit/topology/molecule.py\", line 1251, in _initialize_from_dict\n",
      "    self._add_atom(**atom_dict, invalidate_cache=False)\n",
      "  File \"/Users/orioncohen/miniconda3/envs/atomate_emmet/lib/python3.11/site-packages/openff/toolkit/topology/molecule.py\", line 2936, in _add_atom\n",
      "    atom = Atom(\n",
      "           ^^^^^\n",
      "  File \"/Users/orioncohen/miniconda3/envs/atomate_emmet/lib/python3.11/site-packages/openff/toolkit/topology/molecule.py\", line 259, in __init__\n",
      "    self.formal_charge = formal_charge\n",
      "    ^^^^^^^^^^^^^^^^^^\n",
      "  File \"/Users/orioncohen/miniconda3/envs/atomate_emmet/lib/python3.11/site-packages/openff/toolkit/topology/molecule.py\", line 359, in formal_charge\n",
      "    raise ValueError\n",
      "ValueError\n",
      "\n",
      "2024-04-02 15:13:31,044 INFO Finished executing jobs locally\n"
     ]
    },
    {
     "ename": "RuntimeError",
     "evalue": "Flow did not finish running successfully",
     "output_type": "error",
     "traceback": [
      "\u001B[0;31m---------------------------------------------------------------------------\u001B[0m",
      "\u001B[0;31mRuntimeError\u001B[0m                              Traceback (most recent call last)",
      "Cell \u001B[0;32mIn[3], line 19\u001B[0m\n\u001B[1;32m      1\u001B[0m production_maker \u001B[38;5;241m=\u001B[39m ProductionMaker(\n\u001B[1;32m      2\u001B[0m     name\u001B[38;5;241m=\u001B[39m\u001B[38;5;124m\"\u001B[39m\u001B[38;5;124mtest_production\u001B[39m\u001B[38;5;124m\"\u001B[39m,\n\u001B[1;32m      3\u001B[0m     energy_maker\u001B[38;5;241m=\u001B[39mEnergyMinimizationMaker(\n\u001B[0;32m   (...)\u001B[0m\n\u001B[1;32m     10\u001B[0m     nvt_maker\u001B[38;5;241m=\u001B[39mNVTMaker(n_steps\u001B[38;5;241m=\u001B[39m\u001B[38;5;241m1000\u001B[39m),\n\u001B[1;32m     11\u001B[0m )\n\u001B[1;32m     13\u001B[0m production_flow \u001B[38;5;241m=\u001B[39m production_maker\u001B[38;5;241m.\u001B[39mmake(\n\u001B[1;32m     14\u001B[0m     elyte_interchange_job\u001B[38;5;241m.\u001B[39moutput\u001B[38;5;241m.\u001B[39minterchange,\n\u001B[1;32m     15\u001B[0m     prev_task\u001B[38;5;241m=\u001B[39melyte_interchange_job\u001B[38;5;241m.\u001B[39moutput,\n\u001B[1;32m     16\u001B[0m     output_dir\u001B[38;5;241m=\u001B[39m\u001B[38;5;124m\"\u001B[39m\u001B[38;5;124m.\u001B[39m\u001B[38;5;124m\"\u001B[39m,\n\u001B[1;32m     17\u001B[0m )\n\u001B[0;32m---> 19\u001B[0m \u001B[43mrun_job\u001B[49m\u001B[43m(\u001B[49m\u001B[43mFlow\u001B[49m\u001B[43m(\u001B[49m\u001B[43m[\u001B[49m\u001B[43melyte_interchange_job\u001B[49m\u001B[43m,\u001B[49m\u001B[43m \u001B[49m\u001B[43mproduction_flow\u001B[49m\u001B[43m]\u001B[49m\u001B[43m)\u001B[49m\u001B[43m)\u001B[49m\n",
      "Cell \u001B[0;32mIn[1], line 14\u001B[0m, in \u001B[0;36mrun_job\u001B[0;34m(job)\u001B[0m\n\u001B[1;32m     13\u001B[0m \u001B[38;5;28;01mdef\u001B[39;00m \u001B[38;5;21mrun_job\u001B[39m(job):\n\u001B[0;32m---> 14\u001B[0m     response_dict \u001B[38;5;241m=\u001B[39m \u001B[43mrun_locally\u001B[49m\u001B[43m(\u001B[49m\u001B[43mjob\u001B[49m\u001B[43m,\u001B[49m\u001B[43m \u001B[49m\u001B[43mensure_success\u001B[49m\u001B[38;5;241;43m=\u001B[39;49m\u001B[38;5;28;43;01mTrue\u001B[39;49;00m\u001B[43m)\u001B[49m\n\u001B[1;32m     15\u001B[0m     \u001B[38;5;28;01mreturn\u001B[39;00m \u001B[38;5;28mlist\u001B[39m(response_dict\u001B[38;5;241m.\u001B[39mvalues())[\u001B[38;5;241m-\u001B[39m\u001B[38;5;241m1\u001B[39m][\u001B[38;5;241m1\u001B[39m]\u001B[38;5;241m.\u001B[39moutput\n",
      "File \u001B[0;32m~/miniconda3/envs/atomate_emmet/lib/python3.11/site-packages/jobflow/managers/local.py:179\u001B[0m, in \u001B[0;36mrun_locally\u001B[0;34m(flow, log, store, create_folders, root_dir, ensure_success, allow_external_references, raise_immediately)\u001B[0m\n\u001B[1;32m    176\u001B[0m logger\u001B[38;5;241m.\u001B[39minfo(\u001B[38;5;124m\"\u001B[39m\u001B[38;5;124mFinished executing jobs locally\u001B[39m\u001B[38;5;124m\"\u001B[39m)\n\u001B[1;32m    178\u001B[0m \u001B[38;5;28;01mif\u001B[39;00m ensure_success \u001B[38;5;129;01mand\u001B[39;00m \u001B[38;5;129;01mnot\u001B[39;00m finished_successfully:\n\u001B[0;32m--> 179\u001B[0m     \u001B[38;5;28;01mraise\u001B[39;00m \u001B[38;5;167;01mRuntimeError\u001B[39;00m(\u001B[38;5;124m\"\u001B[39m\u001B[38;5;124mFlow did not finish running successfully\u001B[39m\u001B[38;5;124m\"\u001B[39m)\n\u001B[1;32m    181\u001B[0m \u001B[38;5;28;01mreturn\u001B[39;00m \u001B[38;5;28mdict\u001B[39m(responses)\n",
      "\u001B[0;31mRuntimeError\u001B[0m: Flow did not finish running successfully"
     ]
    }
   ],
   "source": [
    "\n",
    "production_maker = ProductionMaker(\n",
    "    name=\"test_production\",\n",
    "    energy_maker=EnergyMinimizationMaker(\n",
    "        platform_name=\"CUDA\",\n",
    "        platform_properties={\"DeviceIndex\": \"0\"},\n",
    "        # platform_name=\"CPU\",\n",
    "    ),\n",
    "    npt_maker=NPTMaker(n_steps=100),\n",
    "    anneal_maker=AnnealMaker.from_temps_and_steps(n_steps=150),\n",
    "    nvt_maker=NVTMaker(n_steps=1000),\n",
    ")\n",
    "\n",
    "production_flow = production_maker.make(\n",
    "    elyte_interchange_job.output.interchange,\n",
    "    prev_task=elyte_interchange_job.output,\n",
    "    output_dir=\".\",\n",
    ")\n",
    "\n",
    "run_job(Flow([elyte_interchange_job, production_flow]))\n"
   ],
   "metadata": {
    "collapsed": false,
    "ExecuteTime": {
     "end_time": "2024-04-02T22:13:31.417584Z",
     "start_time": "2024-04-02T22:13:28.193031Z"
    }
   },
   "id": "62fbeffc28663bc8",
   "execution_count": 3
  }
 ],
 "metadata": {
  "kernelspec": {
   "display_name": "Python 3",
   "language": "python",
   "name": "python3"
  },
  "language_info": {
   "codemirror_mode": {
    "name": "ipython",
    "version": 2
   },
   "file_extension": ".py",
   "mimetype": "text/x-python",
   "name": "python",
   "nbconvert_exporter": "python",
   "pygments_lexer": "ipython2",
   "version": "2.7.6"
  }
 },
 "nbformat": 4,
 "nbformat_minor": 5
}
