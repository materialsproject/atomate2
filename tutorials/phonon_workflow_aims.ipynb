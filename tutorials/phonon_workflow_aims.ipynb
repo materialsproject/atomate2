{
 "cells": [
  {
   "cell_type": "markdown",
   "id": "0",
   "metadata": {},
   "source": [
    "This first part is only needed as we have to mock FHI-aims here as we cannot run it directly in a jupyter notebook:"
   ]
  },
  {
   "cell_type": "code",
   "execution_count": null,
   "id": "1",
   "metadata": {},
   "outputs": [],
   "source": [
    "import warnings\n",
    "\n",
    "from mock_aims import TEST_DIR, mock_aims\n",
    "\n",
    "ref_paths = {\n",
    "    \"Relaxation calculation\": \"phonon-relax-si\",\n",
    "    \"phonon static aims 1/1\": \"phonon-disp-si\",\n",
    "    \"SCF Calculation\": \"phonon-energy-si\",\n",
    "    \"phonon static aims anharmonicity quant. 1/1\": \"anharm-si-full\",\n",
    "}"
   ]
  },
  {
   "cell_type": "markdown",
   "id": "2",
   "metadata": {},
   "source": [
    "# Phonon Workflow Tutorial with FHI-aims"
   ]
  },
  {
   "cell_type": "markdown",
   "id": "3",
   "metadata": {},
   "source": [
    "This tutorial has been written based on the VASP version."
   ]
  },
  {
   "cell_type": "markdown",
   "id": "4",
   "metadata": {},
   "source": [
    "## Background\n",
    "The Phonon workflow is based on the finite displacement approach as implemented in Phonopy.\n",
    "\n",
    "If you want to read more about Phonopy, please read Togo’s paper: https://doi.org/10.7566/JPSJ.92.012001"
   ]
  },
  {
   "cell_type": "markdown",
   "id": "5",
   "metadata": {},
   "source": [
    "## Let's run the workflow\n",
    "Now, we load a structure and other important functions and classes for running the phonon workflow."
   ]
  },
  {
   "cell_type": "code",
   "execution_count": null,
   "id": "6",
   "metadata": {},
   "outputs": [],
   "source": [
    "from jobflow import JobStore, run_locally\n",
    "from maggma.stores import MemoryStore\n",
    "from pymatgen.core import SETTINGS, Structure\n",
    "\n",
    "from atomate2.aims.flows.phonons import PhononMaker\n",
    "\n",
    "warnings.filterwarnings(\"ignore\")\n",
    "\n",
    "job_store = JobStore(MemoryStore(), additional_stores={\"data\": MemoryStore()})\n",
    "si_structure = Structure.from_file(TEST_DIR / \"structures\" / \"Si_diamond.cif\")\n",
    "SETTINGS[\"AIMS_SPECIES_DIR\"] = TEST_DIR / \"../aims/species_dir/tight\""
   ]
  },
  {
   "cell_type": "markdown",
   "id": "7",
   "metadata": {},
   "source": [
    "Then one can use the `PhononMaker` to generate a `Flow`. For testing here, we are choosing a very small supercell length (`min_length`). Ideally, a larger cell should be chosen. For non-metallic systems with more than one element, one might need to add the non-analytical term correction considering very long-ranging forces by computing the `BORN` charges with the `born_maker`. Of course, the structure should also be relaxed in advance with the `bulk_relax_maker`. Please make sure this is done very accurately. For FHI-aims a `born_maker` still needs to be implemented."
   ]
  },
  {
   "cell_type": "code",
   "execution_count": null,
   "id": "8",
   "metadata": {},
   "outputs": [],
   "source": [
    "phonon_maker = PhononMaker(\n",
    "    min_length=3.0,\n",
    "    generate_frequencies_eigenvectors_kwargs={\"tstep\": 100},\n",
    "    create_thermal_displacements=True,\n",
    "    store_force_constants=True,\n",
    "    born_maker=None,\n",
    "    use_symmetrized_structure=\"primitive\",\n",
    ")\n",
    "flow = phonon_maker.make(si_structure)"
   ]
  },
  {
   "cell_type": "markdown",
   "id": "9",
   "metadata": {},
   "source": [
    "The phonon run will first perform a bulk relaxation, then the displacements are generated and run."
   ]
  },
  {
   "cell_type": "code",
   "execution_count": null,
   "id": "10",
   "metadata": {},
   "outputs": [],
   "source": [
    "flow.draw_graph().show()"
   ]
  },
  {
   "cell_type": "markdown",
   "id": "11",
   "metadata": {},
   "source": [
    "We now run the flow with  `run_locally`. We mock the run here. Normally, you would simply use `run_locally` without the `with mock_aims`"
   ]
  },
  {
   "cell_type": "code",
   "execution_count": null,
   "id": "12",
   "metadata": {},
   "outputs": [],
   "source": [
    "with mock_aims(ref_paths=ref_paths) as mf:\n",
    "    run_locally(\n",
    "        flow,\n",
    "        create_folders=True,\n",
    "        ensure_success=True,\n",
    "        raise_immediately=True,\n",
    "        store=job_store,\n",
    "    )"
   ]
  },
  {
   "cell_type": "code",
   "execution_count": null,
   "id": "13",
   "metadata": {},
   "outputs": [],
   "source": [
    "from pymatgen.phonon.bandstructure import PhononBandStructureSymmLine\n",
    "from pymatgen.phonon.dos import PhononDos\n",
    "from pymatgen.phonon.plotter import PhononBSPlotter, PhononDosPlotter\n",
    "\n",
    "job_store.connect()\n",
    "\n",
    "result = job_store.query_one(\n",
    "    {\"name\": \"generate_frequencies_eigenvectors\"},\n",
    "    load=True,\n",
    "    sort={\"completed_at\": -1},  # to get the latest computation\n",
    ")"
   ]
  },
  {
   "cell_type": "code",
   "execution_count": null,
   "id": "14",
   "metadata": {},
   "outputs": [],
   "source": [
    "ph_bs = PhononBandStructureSymmLine.from_dict(\n",
    "    result[\"output\"][\"phonon_bandstructure\"]\n",
    ")  # get pymatgen bandstructure object\n",
    "ph_dos = PhononDos.from_dict(\n",
    "    result[\"output\"][\"phonon_dos\"]\n",
    ")  # get pymatgen phonon dos object\n",
    "\n",
    "# initialize dos plotter and visualize dos plot\n",
    "dos_plot = PhononDosPlotter()\n",
    "dos_plot.add_dos(label=\"a\", dos=ph_dos)\n",
    "dos_plot.get_plot()\n",
    "\n",
    "# initialize Phonon bandstructure plotter and visualize band structure plot\n",
    "bs_plot = PhononBSPlotter(bs=ph_bs)\n",
    "bs_plot.get_plot()"
   ]
  },
  {
   "cell_type": "markdown",
   "id": "15",
   "metadata": {},
   "source": [
    "One can run the same workflow with a forcefield or VASP as well."
   ]
  },
  {
   "cell_type": "markdown",
   "id": "16",
   "metadata": {},
   "source": [
    "## Anharmonicity Quantification"
   ]
  },
  {
   "cell_type": "markdown",
   "id": "17",
   "metadata": {},
   "source": [
    "Now that we have a phonon calculation completed, we can quantify the anharmonicty ($\\sigma^A$) using the method first proposed in this paper: Phys. Rev. Materials 4, 083809 DOI: https://doi.org/10.1103/PhysRevMaterials.4.083809"
   ]
  },
  {
   "cell_type": "code",
   "execution_count": null,
   "id": "18",
   "metadata": {},
   "outputs": [],
   "source": [
    "from atomate2.aims.flows.anharmonicity import AnharmonicityMaker\n",
    "from atomate2.common.schemas.phonons import PhononBSDOSDoc\n",
    "\n",
    "anharm_quant_maker = AnharmonicityMaker(phonon_maker=phonon_maker)\n",
    "phonon_doc = PhononBSDOSDoc(**result[\"output\"])\n",
    "\n",
    "anharm_flow = anharm_quant_maker.make_from_phonon_doc(\n",
    "    phonon_doc=phonon_doc,\n",
    "    one_shot_approx=False,\n",
    "    seed=1234,\n",
    ")"
   ]
  },
  {
   "cell_type": "code",
   "execution_count": null,
   "id": "19",
   "metadata": {},
   "outputs": [],
   "source": [
    "with mock_aims(ref_paths=ref_paths) as mf:\n",
    "    run_locally(\n",
    "        anharm_flow,\n",
    "        create_folders=True,\n",
    "        ensure_success=True,\n",
    "        raise_immediately=True,\n",
    "        store=job_store,\n",
    "    )"
   ]
  },
  {
   "cell_type": "code",
   "execution_count": null,
   "id": "20",
   "metadata": {},
   "outputs": [],
   "source": [
    "result_anharm = job_store.query_one(\n",
    "    {\"name\": \"get_sigmas\"},\n",
    "    load=True,\n",
    "    sort={\"completed_at\": -1},  # to get the latest computation\n",
    ")\n",
    "print(f\"The estimated anharmonicity is {result_anharm['output']['full']}\")  # noqa: T201"
   ]
  },
  {
   "cell_type": "markdown",
   "id": "21",
   "metadata": {},
   "source": [
    "We can also use the oneshot method to approximate $\\sigma^A$"
   ]
  },
  {
   "cell_type": "code",
   "execution_count": null,
   "id": "22",
   "metadata": {},
   "outputs": [],
   "source": [
    "anharm_os_flow = anharm_quant_maker.make_from_phonon_doc(\n",
    "    phonon_doc=phonon_doc,\n",
    "    one_shot_approx=True,\n",
    "    seed=1234,\n",
    ")"
   ]
  },
  {
   "cell_type": "code",
   "execution_count": null,
   "id": "23",
   "metadata": {},
   "outputs": [],
   "source": [
    "ref_paths = {\n",
    "    \"Relaxation calculation\": \"phonon-relax-si\",\n",
    "    \"phonon static aims 1/1\": \"phonon-disp-si\",\n",
    "    \"SCF Calculation\": \"phonon-energy-si\",\n",
    "    \"phonon static aims anharmonicity quant. 1/1\": \"anharm-os-si\",\n",
    "}\n",
    "with mock_aims(ref_paths=ref_paths) as mf:\n",
    "    run_locally(\n",
    "        anharm_os_flow,\n",
    "        create_folders=True,\n",
    "        ensure_success=True,\n",
    "        raise_immediately=True,\n",
    "        store=job_store,\n",
    "    )"
   ]
  },
  {
   "cell_type": "code",
   "execution_count": null,
   "id": "24",
   "metadata": {},
   "outputs": [],
   "source": [
    "result_anharm = job_store.query_one(\n",
    "    {\"name\": \"get_sigmas\"},\n",
    "    load=True,\n",
    "    sort={\"completed_at\": -1},  # to get the latest computation\n",
    ")\n",
    "print(f\"The estimated one-shot anharmonicity is {result_anharm['output']['one-shot']}\")  # noqa: T201"
   ]
  }
 ],
 "metadata": {
  "language_info": {
   "codemirror_mode": {
    "name": "ipython",
    "version": 3
   },
   "file_extension": ".py",
   "mimetype": "text/x-python",
   "name": "python",
   "nbconvert_exporter": "python",
   "pygments_lexer": "ipython3",
   "version": "3.10.16"
  }
 },
 "nbformat": 4,
 "nbformat_minor": 5
}
