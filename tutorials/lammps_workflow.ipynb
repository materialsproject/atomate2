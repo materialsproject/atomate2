{
 "cells": [
  {
   "cell_type": "markdown",
   "metadata": {},
   "source": [
    "# Running MD in LAMMPS"
   ]
  },
  {
   "cell_type": "markdown",
   "metadata": {},
   "source": [
    "This is a reference for how the atomate2 flows for running MD with LAMMPS can be initialized. These flows were written with solids in mind (i.e., primarily pair_style interactions with no real bond topologies), and as such are based on using the Pymatgen Structure objects as inputs. "
   ]
  },
  {
   "cell_type": "markdown",
   "metadata": {},
   "source": [
    "Before running these workflows, ensure that your `atomate2.yaml` file in your config directory has keys `LAMMPS_CMD` and/or `LAMMPS_MPICMD` specified, and these point to a pre-compiled `lammps` executable."
   ]
  },
  {
   "cell_type": "code",
   "execution_count": null,
   "metadata": {},
   "outputs": [],
   "source": [
    "from jobflow import run_locally\n",
    "from pymatgen.core import Structure\n",
    "from pymatgen.io.lammps.generators import LammpsInputFile\n",
    "\n",
    "from atomate2.lammps.flows.core import MeltQuenchThermalizeMaker\n",
    "from atomate2.lammps.jobs.core import CustomLammpsMaker, LammpsNPTMaker, LammpsNVTMaker"
   ]
  },
  {
   "cell_type": "markdown",
   "metadata": {},
   "source": [
    "Running a LAMMPS simulation requires 3 files:\n",
    "1. in.lammps : input file with all the necessary parameters for the simulation\n",
    "2. forcefield.lammps : Contains all the parameters needed to construct the force field\n",
    "3. system.data : Contains data about atoms/bonding and the simulation box"
   ]
  },
  {
   "cell_type": "markdown",
   "metadata": {},
   "source": [
    "In these flows, #1 can be specified by the user or taken from templates in pymatgen.io.lammps.templates. #2 is specified either as a string or a dict with the keys usually associated with forcefields, #3 is provided either as a Pymatgen Structure or a LammpsData object. "
   ]
  },
  {
   "cell_type": "markdown",
   "metadata": {},
   "source": [
    "Let's start with the forcefield file. Both representations below are equivalent:"
   ]
  },
  {
   "cell_type": "code",
   "execution_count": null,
   "metadata": {},
   "outputs": [],
   "source": [
    "force_field = {\n",
    "    \"pair_style\": \"tersoff\",\n",
    "    \"pair_coeff\": \"* * \\\n",
    "        /Users/virkaran/Code/repos/dev/atomate2/tests/test_data/lammps/Si.tersoff Si\",\n",
    "    \"species\": [\"Si\"],\n",
    "}\n",
    "# Can also be specified as: force_field = LammpsForceField.from_dict(force_field)\n",
    "# this representation performs a basic validation of the forcefield parameters"
   ]
  },
  {
   "cell_type": "markdown",
   "metadata": {},
   "source": [
    "Due to the wide vareity of forcefields and forcefield formats out there, these inputs are directly written to a forcefield.lammps file which the input script MUST include. "
   ]
  },
  {
   "cell_type": "markdown",
   "metadata": {},
   "source": [
    "With the forcefield defined, we have 2 options for how to define the simulation:\n",
    "1. Use the implemented makers (NVT/NPT/NVE/Minimization/MeltQuench)\n",
    "2. Use a custom input file\n",
    "\n",
    "Approach #1 is of use if you want to run a standard MD simulation with predefined inputs that match MD settings from other atomate2 workflows (such as ASEMD or VASPMD for example).\n",
    "Meanwhile, #2 is the way to go if you have a more complex MD simulation, for which you already have a pre-written input file. \n",
    "\n",
    "Let's first see how to do #1:"
   ]
  },
  {
   "cell_type": "markdown",
   "metadata": {},
   "source": [
    "## Using predefined Makers"
   ]
  },
  {
   "cell_type": "code",
   "execution_count": null,
   "metadata": {},
   "outputs": [],
   "source": [
    "maker = LammpsNPTMaker(force_field=force_field)"
   ]
  },
  {
   "cell_type": "markdown",
   "metadata": {},
   "source": [
    "To get more control over the parameters, you must define the InputSet as follows:"
   ]
  },
  {
   "cell_type": "code",
   "execution_count": null,
   "metadata": {},
   "outputs": [],
   "source": [
    "settings = {\n",
    "    \"barostat\": \"berendsen\",\n",
    "    \"start_temp\": 1000,\n",
    "    \"end_temp\": 300,\n",
    "    \"start_pressure\": 1.0,\n",
    "    \"end_pressure\": 1.0,\n",
    "    \"timestep\": 0.001,\n",
    "    \"nsteps\": 1000,\n",
    "    \"friction\": 0.1,\n",
    "}\n",
    "\n",
    "maker.input_set_generator.update_settings(settings)"
   ]
  },
  {
   "cell_type": "markdown",
   "metadata": {},
   "source": [
    "This way, all settings that have to be updated are passed in through the `settings` attribute. Based on the Maker/InputSetGenerator, sensible defaults are provided to avoid having to specify everything. All the default settings are present in \n",
    "the `pymatgen.io.lammps.generators._BASE_LAMMPS_SETTINGS` object.\n",
    "\n",
    "Another thing to note: the force field can be specified as input either to the maker or the input set generator to allow for flexibility. \n",
    "Also: All units by default are in \"metal\" to better match the other solid-state MD sets. "
   ]
  },
  {
   "cell_type": "code",
   "execution_count": null,
   "metadata": {},
   "outputs": [],
   "source": [
    "# example structure\n",
    "si_structure = Structure(\n",
    "    lattice=[[0, 0, 2.73], [2.73, 0, 0], [0, 2.73, 0]],\n",
    "    species=[\"Si\", \"Si\"],\n",
    "    coords=[[0, 0, 0], [0.5, 0.5, 0.5]],\n",
    ")"
   ]
  },
  {
   "cell_type": "markdown",
   "metadata": {},
   "source": [
    "Once everything is defined, make the job. If your simulation relies on additional data (such as extra force field files or bond topologies), provide that as an arguement to the .make() method of the maker. This file will be written as \"extra.data\" in the run directory and an additional line \"include extra.data\" will be written in the input file before any fixes are applied. "
   ]
  },
  {
   "cell_type": "code",
   "execution_count": null,
   "metadata": {},
   "outputs": [],
   "source": [
    "job = maker.make(si_structure)"
   ]
  },
  {
   "cell_type": "markdown",
   "metadata": {},
   "source": [
    "Then, run the job using your prefered workflow manager. For completeness, here's what running it locally gives:"
   ]
  },
  {
   "cell_type": "code",
   "execution_count": null,
   "metadata": {},
   "outputs": [],
   "source": [
    "job_output = run_locally(job, create_folders=True)\n",
    "output = job_output[job.uuid][1].output"
   ]
  },
  {
   "cell_type": "markdown",
   "metadata": {},
   "source": [
    "The TaskDoc by default saves a copy of the inputs and the log files generated in the simulation. It also stores the dumpfiles in the store configured with jobflow. These dumpfiles *can* be parsed when constructing the taskdoc and accessed via output.trajectories; but this is not done by default since lammps dump files can be excessively large. You can turn this on when defining the maker, but be warned about the runtime!"
   ]
  },
  {
   "cell_type": "markdown",
   "metadata": {},
   "source": [
    "The parsed log file can be accessed as:"
   ]
  },
  {
   "cell_type": "code",
   "execution_count": null,
   "metadata": {},
   "outputs": [],
   "source": [
    "output.thermo_log"
   ]
  },
  {
   "cell_type": "markdown",
   "metadata": {},
   "source": [
    "The full raw log file (as a string) is also stored in the TaskDoc (in the JobStore) for things that aren't captured by the parser."
   ]
  },
  {
   "cell_type": "code",
   "execution_count": null,
   "metadata": {},
   "outputs": [],
   "source": [
    "output.raw_log_file"
   ]
  },
  {
   "cell_type": "markdown",
   "metadata": {},
   "source": [
    "All `.dump` files are parsed and stored in the JobStore by default, and can be accessed as:"
   ]
  },
  {
   "cell_type": "code",
   "execution_count": null,
   "metadata": {},
   "outputs": [],
   "source": [
    "output.dump_files"
   ]
  },
  {
   "cell_type": "markdown",
   "metadata": {},
   "source": [
    "## Custom jobs"
   ]
  },
  {
   "cell_type": "markdown",
   "metadata": {},
   "source": [
    "If you instead have a custom input file, you can use the CustomLammpsMaker to run your simulation. If you want to have custom arguements in there, define them with $variables and specify the variables as dictionary. "
   ]
  },
  {
   "cell_type": "code",
   "execution_count": null,
   "metadata": {},
   "outputs": [],
   "source": [
    "input_file = \"/path/to/input_file\"\n",
    "# or\n",
    "input_file = \"string representation of input file\"\n",
    "# or\n",
    "input_file = LammpsInputFile.from_file(input_file)\n",
    "\n",
    "\n",
    "settings = {\"variable\": \"value\"}\n",
    "maker = CustomLammpsMaker(\n",
    "    inputfile=input_file, force_field=force_field, settings=settings\n",
    ")"
   ]
  },
  {
   "cell_type": "markdown",
   "metadata": {},
   "source": [
    "A more concrete example is:"
   ]
  },
  {
   "cell_type": "code",
   "execution_count": null,
   "metadata": {},
   "outputs": [],
   "source": [
    "input_file = (\n",
    "    \"units $units \\n atom_style $atom_style \\n dimension 3 \\n\"\n",
    "    \"boundary p p p \\n read_data input.data \\n pair_style $pair_style \\n\"\n",
    "    \"include forcefield.lammps \\n min_style cg \\n\"\n",
    "    \"minimize 0.0001 0.0001 1000 10000000 \\n \"\n",
    "    \"write_data run.data\"\n",
    ")"
   ]
  },
  {
   "cell_type": "markdown",
   "metadata": {},
   "source": [
    "This inputfile does a very simple geometry relaxation. \n",
    "Inputs such as \"units\" (or anything else with a \"$\") can be specified as:"
   ]
  },
  {
   "cell_type": "code",
   "execution_count": null,
   "metadata": {},
   "outputs": [],
   "source": [
    "settings = {\"units\": \"metal\", \"pair_style\": \"lj/cut 2.5\", \"atom_style\": \"full\"}\n",
    "\n",
    "maker = CustomLammpsMaker(\n",
    "    inputfile=input_file,\n",
    "    force_field=force_field,\n",
    "    settings=settings,\n",
    "    validate_params=False,\n",
    "    include_defaults=False,\n",
    ")\n",
    "\n",
    "job = maker.make(si_structure)\n",
    "job_output = run_locally(job, create_folders=True)"
   ]
  },
  {
   "cell_type": "markdown",
   "metadata": {},
   "source": [
    "This way, even custom lammps jobs can be run in high-throughput on an HPC, with access to all the benefits of atomate2 and jobflow. \n",
    "\n",
    "If you face issues of the inputs you specify in the settings dict being incorrectly validated, manually provide validate_params=False and use_defaults=False when initializing the CustomLammpsMaker."
   ]
  },
  {
   "cell_type": "markdown",
   "metadata": {},
   "source": [
    "# Melt-Quench Flow"
   ]
  },
  {
   "cell_type": "markdown",
   "metadata": {},
   "source": [
    "A common usecase in MD is the generation of input geometries for a longer MD production simulation. For this task, use the `MeltQuenchThermalizeMaker` to automatically generate a workflow for this task."
   ]
  },
  {
   "cell_type": "code",
   "execution_count": null,
   "metadata": {},
   "outputs": [],
   "source": [
    "npt_maker = LammpsNPTMaker(force_field=force_field)\n",
    "nvt_maker = LammpsNVTMaker(force_field=force_field)\n",
    "maker = MeltQuenchThermalizeMaker.from_temperature_steps(\n",
    "    npt_maker,\n",
    "    nvt_maker,\n",
    "    melt_temperature=5000,\n",
    "    n_steps_melt=5000,\n",
    "    quench_temperature=500,\n",
    "    n_steps_quench=5000,\n",
    "    n_steps_thermalize=12500,\n",
    ")"
   ]
  },
  {
   "cell_type": "code",
   "execution_count": null,
   "metadata": {},
   "outputs": [],
   "source": [
    "job = maker.make(si_structure)\n",
    "job_output = run_locally(job, create_folders=True)"
   ]
  }
 ],
 "metadata": {
  "language_info": {
   "codemirror_mode": {
    "name": "ipython",
    "version": 3
   },
   "file_extension": ".py",
   "mimetype": "text/x-python",
   "name": "python",
   "nbconvert_exporter": "python",
   "pygments_lexer": "ipython3",
   "version": "3.10.13"
  }
 },
 "nbformat": 4,
 "nbformat_minor": 2
}
