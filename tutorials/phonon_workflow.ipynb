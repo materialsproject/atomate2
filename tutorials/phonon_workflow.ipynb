{
 "cells": [
  {
   "cell_type": "markdown",
   "id": "0",
   "metadata": {},
   "source": [
    "This first part is only needed as we have to mock VASP here as we cannot run it directly in a jupyter notebook:"
   ]
  },
  {
   "cell_type": "code",
   "execution_count": null,
   "id": "1",
   "metadata": {},
   "outputs": [],
   "source": [
    "import warnings\n",
    "\n",
    "from mock_vasp import TEST_DIR, mock_vasp\n",
    "\n",
    "ref_paths = {\n",
    "    \"phonon static 1/1\": \"Si_phonons_3/phonon_static_1_1\",\n",
    "    \"static\": \"Si_phonons_3/static\",\n",
    "    \"tight relax 1\": \"Si_phonons_3/tight_relax_1\",\n",
    "    \"tight relax 2\": \"Si_phonons_3/tight_relax_2\",\n",
    "    \"dielectric\": \"Si_phonons_3/dielectric\",\n",
    "}"
   ]
  },
  {
   "cell_type": "markdown",
   "id": "2",
   "metadata": {},
   "source": [
    "# Phonon Workflow Tutorial with VASP"
   ]
  },
  {
   "cell_type": "markdown",
   "id": "3",
   "metadata": {},
   "source": [
    "This tutorial has been written based on a previous version from Aakash Naik."
   ]
  },
  {
   "cell_type": "markdown",
   "id": "4",
   "metadata": {},
   "source": [
    "## Background\n",
    "The Phonon workflow is based on the finite displacement approach as implemented in Phonopy.\n",
    "\n",
    "If you want to read more about Phonopy, please read Togo’s paper: https://doi.org/10.7566/JPSJ.92.012001"
   ]
  },
  {
   "cell_type": "markdown",
   "id": "5",
   "metadata": {},
   "source": [
    "## Let's run the workflow\n",
    "Now, we load a structure and other important functions and classes for running the phonon workflow."
   ]
  },
  {
   "cell_type": "code",
   "execution_count": null,
   "id": "6",
   "metadata": {},
   "outputs": [],
   "source": [
    "from jobflow import JobStore, run_locally\n",
    "from maggma.stores import MemoryStore\n",
    "from pymatgen.core import Structure\n",
    "\n",
    "from atomate2.vasp.flows.phonons import PhononMaker\n",
    "\n",
    "warnings.filterwarnings(\"ignore\")\n",
    "\n",
    "job_store = JobStore(MemoryStore(), additional_stores={\"data\": MemoryStore()})\n",
    "si_structure = Structure.from_file(TEST_DIR / \"structures\" / \"Si.cif\")"
   ]
  },
  {
   "cell_type": "markdown",
   "id": "7",
   "metadata": {},
   "source": [
    "Then one can use the `PhononMaker` to generate a `Flow`. For testing here, we are choosing a very small supercell length (`min_length`). Ideally, a larger cell should be chosen. For non-metallic systems with more than one element, one might need to add the non-analytical term correction considering very long-ranging forces by computing the `BORN` charges with the `born_maker`. Of course, the structure should also be relaxed in advance with the `bulk_relax_maker`. Please make sure this is done very accurately."
   ]
  },
  {
   "cell_type": "code",
   "execution_count": null,
   "id": "8",
   "metadata": {},
   "outputs": [],
   "source": [
    "flow = PhononMaker(\n",
    "    min_length=3.0,\n",
    "    use_symmetrized_structure=None,\n",
    "    generate_frequencies_eigenvectors_kwargs={\"tstep\": 100},\n",
    "    create_thermal_displacements=True,\n",
    "    store_force_constants=True,\n",
    "    born_maker=None,\n",
    ").make(si_structure)"
   ]
  },
  {
   "cell_type": "markdown",
   "id": "9",
   "metadata": {},
   "source": [
    "The phonon run will first perform a bulk relaxation, then the displacements are generated and run. As we currently don’t have a way to compute BORN charges with such potentials, a non-analytical term correction is not performed here. We can visualize the flow first."
   ]
  },
  {
   "cell_type": "code",
   "execution_count": null,
   "id": "10",
   "metadata": {},
   "outputs": [],
   "source": [
    "flow.draw_graph().show()"
   ]
  },
  {
   "cell_type": "markdown",
   "id": "11",
   "metadata": {},
   "source": [
    "We now run the flow with  `run_locally`. We mock the run here. Normally, you would simply use `run_locally` without the `with mock_vasp`"
   ]
  },
  {
   "cell_type": "code",
   "execution_count": null,
   "id": "12",
   "metadata": {},
   "outputs": [],
   "source": [
    "with mock_vasp(ref_paths=ref_paths) as mf:\n",
    "    run_locally(\n",
    "        flow,\n",
    "        create_folders=True,\n",
    "        ensure_success=True,\n",
    "        raise_immediately=True,\n",
    "        store=job_store,\n",
    "    )"
   ]
  },
  {
   "cell_type": "code",
   "execution_count": null,
   "id": "13",
   "metadata": {},
   "outputs": [],
   "source": [
    "from pymatgen.phonon.bandstructure import PhononBandStructureSymmLine\n",
    "from pymatgen.phonon.dos import PhononDos\n",
    "from pymatgen.phonon.plotter import PhononBSPlotter, PhononDosPlotter\n",
    "\n",
    "job_store.connect()\n",
    "\n",
    "result = job_store.query_one(\n",
    "    {\"name\": \"generate_frequencies_eigenvectors\"},\n",
    "    properties=[\n",
    "        \"output.phonon_dos\",\n",
    "        \"output.phonon_bandstructure\",\n",
    "    ],\n",
    "    load=True,\n",
    "    sort={\"completed_at\": -1},  # to get the latest computation\n",
    ")"
   ]
  },
  {
   "cell_type": "code",
   "execution_count": null,
   "id": "14",
   "metadata": {},
   "outputs": [],
   "source": [
    "ph_bs = PhononBandStructureSymmLine.from_dict(\n",
    "    result[\"output\"][\"phonon_bandstructure\"]\n",
    ")  # get pymatgen bandstructure object\n",
    "ph_dos = PhononDos.from_dict(\n",
    "    result[\"output\"][\"phonon_dos\"]\n",
    ")  # get pymatgen phonon dos object\n",
    "\n",
    "# initialize dos plotter and visualize dos plot\n",
    "dos_plot = PhononDosPlotter()\n",
    "dos_plot.add_dos(label=\"a\", dos=ph_dos)\n",
    "dos_plot.get_plot()\n",
    "\n",
    "# initialize Phonon bandstructure plotter and visualize band structure plot\n",
    "bs_plot = PhononBSPlotter(bs=ph_bs)\n",
    "bs_plot.get_plot()"
   ]
  },
  {
   "cell_type": "markdown",
   "id": "15",
   "metadata": {},
   "source": [
    "One can run the same workflow with a forcefield as well. Here, we cannot consider BORN charges yet as there is no forcefield equivalent. You can find this tutorial in the force field tutorials."
   ]
  }
 ],
 "metadata": {
  "language_info": {
   "codemirror_mode": {
    "name": "ipython",
    "version": 3
   },
   "file_extension": ".py",
   "mimetype": "text/x-python",
   "name": "python",
   "nbconvert_exporter": "python",
   "pygments_lexer": "ipython3",
   "version": "3.10.16"
  }
 },
 "nbformat": 4,
 "nbformat_minor": 5
}
