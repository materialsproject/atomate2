{
 "cells": [
  {
   "cell_type": "code",
   "execution_count": 8,
   "metadata": {},
   "outputs": [],
   "source": [
    "import glob \n",
    "import os \n",
    "from gzip import GzipFile\n",
    "from pymatgen.io.vasp import Potcar\n",
    "from monty.os.path import zpath\n",
    "import shutil"
   ]
  },
  {
   "cell_type": "code",
   "execution_count": 2,
   "metadata": {},
   "outputs": [
    {
     "name": "stdout",
     "output_type": "stream",
     "text": [
      "\u001b[1m\u001b[36m__pycache__\u001b[m\u001b[m      \u001b[1m\u001b[36mlobster\u001b[m\u001b[m          test_base.py     test_sets.py\n",
      "conftest.py      mover.ipynb      test_drones.py\n",
      "\u001b[1m\u001b[36mflows\u001b[m\u001b[m            \u001b[1m\u001b[36mschemas\u001b[m\u001b[m          test_files.py\n",
      "\u001b[1m\u001b[36mjobs\u001b[m\u001b[m             \u001b[1m\u001b[36msets\u001b[m\u001b[m             test_powerups.py\n"
     ]
    }
   ],
   "source": [
    "!ls "
   ]
  },
  {
   "cell_type": "code",
   "execution_count": 13,
   "metadata": {},
   "outputs": [],
   "source": [
    "main_dir = '/Users/bli/repo2/atomate2/tests/test_data/vasp/Si_mp_morph/BaseVaspMPMorph'\n",
    "\n",
    "for input_file in ['INCAR', 'KPOINTS', 'POSCAR', 'POTCAR']:\n",
    "    files_to_move = glob.glob(f'{main_dir}/*/inputs/{input_file}')\n",
    "    for files in files_to_move:\n",
    "        output = f'{os.path.dirname(files)}/../outputs'\n",
    "        output_file = zpath(f'{output}/{input_file}')\n",
    "        if not os.path.isfile(output_file):\n",
    "            with open(files,'rb') as fio, GzipFile(f\"{output_file}.gz\", 'wb') as f:\n",
    "                shutil.copyfileobj(fio, f)\n",
    "        if \"POTCAR\" in output_file:\n",
    "            try:\n",
    "                pfile = zpath(output_file)\n",
    "                p = Potcar.from_file(pfile)\n",
    "                os.remove(pfile)\n",
    "                spec_name = f\"{output_file.split('.gz')[0]}.spec\"\n",
    "                with open(spec_name, 'w+') as f:\n",
    "                    f.write(\"\\n\".join(p.symbols))\n",
    "            except Exception as exc:\n",
    "                print(exc)"
   ]
  },
  {
   "cell_type": "code",
   "execution_count": 15,
   "metadata": {},
   "outputs": [],
   "source": [
    "files_to_clean = (\"CHGCAR\",\"CHG\",\"WAVECAR\",\"LOCPOT\",\"POT\",\"vaspout.h5\",\"POTCAR.orig\",\"std_err.txt\",\"custodian.json\",\"FW.json\",\"HILLSPOT\",\"PROCAR\")\n",
    "output_dirs = glob.glob(f'{main_dir}/*/outputs/')\n",
    "for outputs in output_dirs:\n",
    "    for files in files_to_clean:\n",
    "        fpath = zpath(f'{outputs}/{files}')\n",
    "        if os.path.isfile(fpath):\n",
    "            os.remove(fpath)\n",
    "    "
   ]
  }
 ],
 "metadata": {
  "kernelspec": {
   "display_name": "at2",
   "language": "python",
   "name": "python3"
  },
  "language_info": {
   "codemirror_mode": {
    "name": "ipython",
    "version": 3
   },
   "file_extension": ".py",
   "mimetype": "text/x-python",
   "name": "python",
   "nbconvert_exporter": "python",
   "pygments_lexer": "ipython3",
   "version": "3.9.18"
  }
 },
 "nbformat": 4,
 "nbformat_minor": 2
}
